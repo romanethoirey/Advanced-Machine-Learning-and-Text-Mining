{
 "cells": [
  {
   "cell_type": "markdown",
   "metadata": {},
   "source": [
    "## Loading model\n",
    "Here we will load a pretrained word2vec model from google\n",
    "\n",
    "google full pre-trained model available at https://drive.google.com/file/d/0B7XkCwpI5KDYNlNUTTlSS21pQmM/edit (1.5 GB)\n",
    "\n",
    "a smaller model (345 MB unpacked), which is the one we'll be using, is available at https://github.com/eyaler/word2vec-slim/blob/master/GoogleNews-vectors-negative300-SLIM.bin.gz"
   ]
  },
  {
   "cell_type": "code",
   "execution_count": 1,
   "metadata": {},
   "outputs": [],
   "source": [
    "import gensim\n",
    "model = gensim.models.KeyedVectors.load_word2vec_format('GoogleNews-vectors-negative300-SLIM.bin', binary=True)  "
   ]
  },
  {
   "cell_type": "markdown",
   "metadata": {},
   "source": [
    "## Vocabulary"
   ]
  },
  {
   "cell_type": "code",
   "execution_count": 2,
   "metadata": {},
   "outputs": [
    {
     "name": "stderr",
     "output_type": "stream",
     "text": [
      "/Users/romane/opt/anaconda3/lib/python3.7/site-packages/ipykernel_launcher.py:2: DeprecationWarning: Call to deprecated `wv` (Attribute will be removed in 4.0.0, use self instead).\n",
      "  \n"
     ]
    }
   ],
   "source": [
    "# get list of word vectors\n",
    "model_words = list(model.wv.vocab)"
   ]
  },
  {
   "cell_type": "code",
   "execution_count": 3,
   "metadata": {},
   "outputs": [
    {
     "data": {
      "text/plain": [
       "299567"
      ]
     },
     "execution_count": 3,
     "metadata": {},
     "output_type": "execute_result"
    }
   ],
   "source": [
    "len(model_words)"
   ]
  },
  {
   "cell_type": "code",
   "execution_count": 4,
   "metadata": {},
   "outputs": [
    {
     "name": "stderr",
     "output_type": "stream",
     "text": [
      "/Users/romane/opt/anaconda3/lib/python3.7/site-packages/ipykernel_launcher.py:2: DeprecationWarning: Call to deprecated `wv` (Attribute will be removed in 4.0.0, use self instead).\n",
      "  \n"
     ]
    }
   ],
   "source": [
    "# get sorted list of word vectors\n",
    "words_indexes = list(model.wv.index2word)"
   ]
  },
  {
   "cell_type": "code",
   "execution_count": 5,
   "metadata": {},
   "outputs": [
    {
     "data": {
      "text/plain": [
       "299567"
      ]
     },
     "execution_count": 5,
     "metadata": {},
     "output_type": "execute_result"
    }
   ],
   "source": [
    "len(words_indexes)"
   ]
  },
  {
   "cell_type": "code",
   "execution_count": 6,
   "metadata": {},
   "outputs": [
    {
     "data": {
      "text/plain": [
       "['in',\n",
       " 'for',\n",
       " 'that',\n",
       " 'is',\n",
       " 'on',\n",
       " 'The',\n",
       " 'with',\n",
       " 'said',\n",
       " 'was',\n",
       " 'the',\n",
       " 'at',\n",
       " 'not',\n",
       " 'as',\n",
       " 'it',\n",
       " 'be',\n",
       " 'from',\n",
       " 'by',\n",
       " 'are',\n",
       " 'I',\n",
       " 'have']"
      ]
     },
     "execution_count": 6,
     "metadata": {},
     "output_type": "execute_result"
    }
   ],
   "source": [
    "words_indexes[:20]"
   ]
  },
  {
   "cell_type": "code",
   "execution_count": 7,
   "metadata": {},
   "outputs": [
    {
     "name": "stderr",
     "output_type": "stream",
     "text": [
      "/Users/romane/opt/anaconda3/lib/python3.7/site-packages/ipykernel_launcher.py:2: DeprecationWarning: Call to deprecated `wv` (Attribute will be removed in 4.0.0, use self instead).\n",
      "  \n"
     ]
    },
    {
     "data": {
      "text/plain": [
       "40"
      ]
     },
     "execution_count": 7,
     "metadata": {},
     "output_type": "execute_result"
    }
   ],
   "source": [
    "# check the index for a word\n",
    "model.wv.vocab['one'].index"
   ]
  },
  {
   "cell_type": "markdown",
   "metadata": {},
   "source": [
    "## Vectors"
   ]
  },
  {
   "cell_type": "code",
   "execution_count": 8,
   "metadata": {},
   "outputs": [],
   "source": [
    "model.wv?"
   ]
  },
  {
   "cell_type": "code",
   "execution_count": 9,
   "metadata": {},
   "outputs": [
    {
     "name": "stderr",
     "output_type": "stream",
     "text": [
      "/Users/romane/opt/anaconda3/lib/python3.7/site-packages/ipykernel_launcher.py:1: DeprecationWarning: Call to deprecated `wv` (Attribute will be removed in 4.0.0, use self instead).\n",
      "  \"\"\"Entry point for launching an IPython kernel.\n"
     ]
    },
    {
     "data": {
      "text/plain": [
       "array([ 0.03171886, -0.10109327,  0.10855653,  0.11534131,  0.07632881,\n",
       "        0.0052158 ,  0.05122511, -0.02154169,  0.10923501,  0.06920478,\n",
       "        0.03612897, -0.1031287 ,  0.04477957,  0.08209588, -0.01840372,\n",
       "        0.06275924,  0.00669997, -0.08582751, -0.01984549,  0.00502498,\n",
       "       -0.04477957,  0.0563137 , -0.06072381, -0.02832647,  0.01306071,\n",
       "        0.05733142, -0.05529598,  0.05495674,  0.00767529,  0.0580099 ,\n",
       "        0.00128275,  0.05292131,  0.03358468,  0.0069544 ,  0.00631833,\n",
       "        0.00538542,  0.01704677, -0.02111764,  0.03188848, -0.01848853,\n",
       "        0.07124022, -0.00966832,  0.0121278 ,  0.04410109,  0.04172641,\n",
       "        0.02747837,  0.06852631,  0.00784491, -0.06038457, -0.01781006,\n",
       "       -0.03494163,  0.03494163,  0.01009236,  0.00155838, -0.03680745,\n",
       "       -0.00602149,  0.02120245,  0.00886262,  0.03952136,  0.05461751,\n",
       "        0.02120245,  0.06716935,  0.00268211, -0.14315893, -0.05258207,\n",
       "       -0.00597909, -0.04477957,  0.00589428, -0.04087832,  0.08955914,\n",
       "        0.00975313,  0.06072381,  0.04477957, -0.00733605, -0.0337543 ,\n",
       "       -0.02188092, -0.01611386,  0.09363001,  0.04783272,  0.05970609,\n",
       "        0.06581239, -0.11330587,  0.10177175, -0.06208076, -0.0814174 ,\n",
       "       -0.06174153, -0.01585943, -0.01789487, -0.0320581 , -0.04918968,\n",
       "        0.05258207,  0.09363001, -0.04003022, -0.04003022, -0.12348305,\n",
       "       -0.04121756,  0.0814174 ,  0.02917457, -0.09430849,  0.03324544,\n",
       "       -0.04444033, -0.01882777,  0.01467209, -0.00623352, -0.00848098,\n",
       "       -0.00809934,  0.07700729,  0.00039225,  0.00021865, -0.0641162 ,\n",
       "       -0.06920478, -0.07836425, -0.02060878,  0.02238978,  0.11330587,\n",
       "        0.04172641,  0.04545804, -0.03324544,  0.12891088,  0.01899739,\n",
       "       -0.15808545, -0.0121278 , -0.08447055,  0.03222772, -0.04545804,\n",
       "       -0.08888066,  0.04376185, -0.03324544,  0.03239734,  0.08820218,\n",
       "       -0.0216265 , -0.11737674, -0.01314552, -0.00699681,  0.07056174,\n",
       "       -0.09905783, -0.03137962, -0.06275924, -0.01594424,  0.05936685,\n",
       "        0.08073892, -0.12144762,  0.06988326,  0.01696196,  0.17640436,\n",
       "        0.08073892, -0.02629104, -0.01628348, -0.05936685, -0.02781761,\n",
       "       -0.04477957, -0.00962591, -0.08955914,  0.02883533, -0.05868837,\n",
       "        0.02832647, -0.06004533, -0.10855653, -0.00301075, -0.01187337,\n",
       "       -0.12687545, -0.01263666,  0.04410109, -0.00375283, -0.01611386,\n",
       "       -0.00460093,  0.05495674, -0.04817196, -0.09227305, -0.04172641,\n",
       "       -0.12755392, -0.01789487, -0.00585188, -0.19268784, -0.02171131,\n",
       "       -0.06750859,  0.01068603, -0.05699218, -0.01755563, -0.00058042,\n",
       "        0.02917457, -0.06004533, -0.01170375,  0.05767066, -0.046815  ,\n",
       "        0.04986816, -0.00339239,  0.01535057,  0.05054663,  0.00225806,\n",
       "        0.01789487, -0.01051641,  0.03426316, -0.05190359, -0.05529598,\n",
       "       -0.00729364, -0.02374674,  0.04206565, -0.11737674, -0.14315893,\n",
       "        0.03273658,  0.07632881,  0.02374674,  0.05427827, -0.07938197,\n",
       "       -0.03409354, -0.07124022, -0.02832647,  0.0415568 , -0.02951381,\n",
       "        0.06479468,  0.08888066, -0.04952892,  0.0129759 , -0.02272902,\n",
       "        0.05936685, -0.00354081, -0.03188848, -0.09973631,  0.04715424,\n",
       "        0.02026954,  0.03511125,  0.00273512, -0.04291375,  0.09023762,\n",
       "       -0.01280628,  0.09430849,  0.06106305,  0.04257451,  0.01272147,\n",
       "       -0.02934419,  0.00818414,  0.04308337,  0.0641162 ,  0.07056174,\n",
       "        0.00328638,  0.01441766, -0.06988326, -0.02764799,  0.01441766,\n",
       "        0.03087076, -0.01416323, -0.03121   , -0.14315893,  0.08548827,\n",
       "        0.00094881,  0.01085565, -0.03239734,  0.04918968, -0.0320581 ,\n",
       "       -0.046815  , -0.05326055,  0.02188092,  0.0034772 ,  0.00142056,\n",
       "        0.05054663,  0.02357712,  0.0329062 , -0.01814929, -0.10448566,\n",
       "       -0.02442522, -0.0129759 , -0.06377696, -0.02493408,  0.05359979,\n",
       "        0.06615163,  0.04579728,  0.07429338, -0.13094631,  0.03477201,\n",
       "        0.04613652, -0.00413448, -0.02306826,  0.00614871,  0.09159457,\n",
       "       -0.05970609, -0.13705263, -0.08820218, -0.01229742, -0.08684523,\n",
       "       -0.0303619 ,  0.01467209,  0.02188092,  0.06615163, -0.01246704,\n",
       "       -0.0580099 , -0.09498696, -0.05224283, -0.00992275,  0.05122511,\n",
       "       -0.02009992, -0.00903224, -0.04189603, -0.02272902, -0.0719187 ,\n",
       "        0.03104038, -0.06615163, -0.01102527,  0.00466454, -0.00130925],\n",
       "      dtype=float32)"
      ]
     },
     "execution_count": 9,
     "metadata": {},
     "output_type": "execute_result"
    }
   ],
   "source": [
    "model.wv.get_vector('one')"
   ]
  },
  {
   "cell_type": "code",
   "execution_count": 10,
   "metadata": {},
   "outputs": [
    {
     "name": "stderr",
     "output_type": "stream",
     "text": [
      "/Users/romane/opt/anaconda3/lib/python3.7/site-packages/ipykernel_launcher.py:1: DeprecationWarning: Call to deprecated `wv` (Attribute will be removed in 4.0.0, use self instead).\n",
      "  \"\"\"Entry point for launching an IPython kernel.\n"
     ]
    },
    {
     "data": {
      "text/plain": [
       "300"
      ]
     },
     "execution_count": 10,
     "metadata": {},
     "output_type": "execute_result"
    }
   ],
   "source": [
    "len(model.wv.get_vector('one'))"
   ]
  },
  {
   "cell_type": "markdown",
   "metadata": {},
   "source": [
    "### Distance from mean\n",
    "<a id=\"distance-from-mean\"></a>"
   ]
  },
  {
   "cell_type": "code",
   "execution_count": 11,
   "metadata": {},
   "outputs": [],
   "source": [
    "model.wv.doesnt_match?"
   ]
  },
  {
   "cell_type": "code",
   "execution_count": 12,
   "metadata": {},
   "outputs": [
    {
     "name": "stderr",
     "output_type": "stream",
     "text": [
      "/Users/romane/opt/anaconda3/lib/python3.7/site-packages/ipykernel_launcher.py:2: DeprecationWarning: Call to deprecated `wv` (Attribute will be removed in 4.0.0, use self instead).\n",
      "  \n",
      "/Users/romane/opt/anaconda3/lib/python3.7/site-packages/gensim/models/keyedvectors.py:877: FutureWarning: arrays to stack must be passed as a \"sequence\" type such as list or tuple. Support for non-sequence iterables such as generators is deprecated as of NumPy 1.16 and will raise an error in the future.\n",
      "  vectors = vstack(self.word_vec(word, use_norm=True) for word in used_words).astype(REAL)\n"
     ]
    },
    {
     "data": {
      "text/plain": [
       "'cereal'"
      ]
     },
     "execution_count": 12,
     "metadata": {},
     "output_type": "execute_result"
    }
   ],
   "source": [
    "# find word in list that is farthest from the mean\n",
    "model.wv.doesnt_match(\"breakfast cereal dinner lunch\".split())"
   ]
  },
  {
   "cell_type": "code",
   "execution_count": 13,
   "metadata": {},
   "outputs": [
    {
     "name": "stderr",
     "output_type": "stream",
     "text": [
      "/Users/romane/opt/anaconda3/lib/python3.7/site-packages/ipykernel_launcher.py:1: DeprecationWarning: Call to deprecated `wv` (Attribute will be removed in 4.0.0, use self instead).\n",
      "  \"\"\"Entry point for launching an IPython kernel.\n"
     ]
    },
    {
     "data": {
      "text/plain": [
       "'sport'"
      ]
     },
     "execution_count": 13,
     "metadata": {},
     "output_type": "execute_result"
    }
   ],
   "source": [
    "model.wv.doesnt_match(\"cook janitor pilot sport teacher\".split())"
   ]
  },
  {
   "cell_type": "code",
   "execution_count": 14,
   "metadata": {},
   "outputs": [
    {
     "name": "stderr",
     "output_type": "stream",
     "text": [
      "/Users/romane/opt/anaconda3/lib/python3.7/site-packages/ipykernel_launcher.py:1: DeprecationWarning: Call to deprecated `wv` (Attribute will be removed in 4.0.0, use self instead).\n",
      "  \"\"\"Entry point for launching an IPython kernel.\n"
     ]
    },
    {
     "data": {
      "text/plain": [
       "'love'"
      ]
     },
     "execution_count": 14,
     "metadata": {},
     "output_type": "execute_result"
    }
   ],
   "source": [
    "model.wv.doesnt_match(\"kill dead knife love\".split())"
   ]
  },
  {
   "cell_type": "code",
   "execution_count": 15,
   "metadata": {},
   "outputs": [
    {
     "name": "stderr",
     "output_type": "stream",
     "text": [
      "/Users/romane/opt/anaconda3/lib/python3.7/site-packages/ipykernel_launcher.py:1: DeprecationWarning: Call to deprecated `wv` (Attribute will be removed in 4.0.0, use self instead).\n",
      "  \"\"\"Entry point for launching an IPython kernel.\n"
     ]
    },
    {
     "data": {
      "text/plain": [
       "'tree'"
      ]
     },
     "execution_count": 15,
     "metadata": {},
     "output_type": "execute_result"
    }
   ],
   "source": [
    "model.wv.doesnt_match(\"insect animal cat tree\".split())"
   ]
  },
  {
   "cell_type": "code",
   "execution_count": 16,
   "metadata": {},
   "outputs": [
    {
     "name": "stderr",
     "output_type": "stream",
     "text": [
      "/Users/romane/opt/anaconda3/lib/python3.7/site-packages/ipykernel_launcher.py:1: DeprecationWarning: Call to deprecated `wv` (Attribute will be removed in 4.0.0, use self instead).\n",
      "  \"\"\"Entry point for launching an IPython kernel.\n"
     ]
    },
    {
     "data": {
      "text/plain": [
       "'lion'"
      ]
     },
     "execution_count": 16,
     "metadata": {},
     "output_type": "execute_result"
    }
   ],
   "source": [
    "model.wv.doesnt_match(\"dog cat parrot lion\".split())"
   ]
  },
  {
   "cell_type": "markdown",
   "metadata": {},
   "source": [
    "## Similarity\n",
    "<a id=\"similarity\"></a>"
   ]
  },
  {
   "cell_type": "markdown",
   "metadata": {},
   "source": [
    "### Cosine similarity"
   ]
  },
  {
   "cell_type": "code",
   "execution_count": 17,
   "metadata": {},
   "outputs": [],
   "source": [
    "model.wv.similarity?"
   ]
  },
  {
   "cell_type": "code",
   "execution_count": 18,
   "metadata": {},
   "outputs": [
    {
     "name": "stderr",
     "output_type": "stream",
     "text": [
      "/Users/romane/opt/anaconda3/lib/python3.7/site-packages/ipykernel_launcher.py:1: DeprecationWarning: Call to deprecated `wv` (Attribute will be removed in 4.0.0, use self instead).\n",
      "  \"\"\"Entry point for launching an IPython kernel.\n"
     ]
    },
    {
     "data": {
      "text/plain": [
       "0.37493223"
      ]
     },
     "execution_count": 18,
     "metadata": {},
     "output_type": "execute_result"
    }
   ],
   "source": [
    "model.wv.similarity('angry', 'happy')"
   ]
  },
  {
   "cell_type": "code",
   "execution_count": 19,
   "metadata": {},
   "outputs": [
    {
     "name": "stderr",
     "output_type": "stream",
     "text": [
      "/Users/romane/opt/anaconda3/lib/python3.7/site-packages/ipykernel_launcher.py:1: DeprecationWarning: Call to deprecated `wv` (Attribute will be removed in 4.0.0, use self instead).\n",
      "  \"\"\"Entry point for launching an IPython kernel.\n"
     ]
    },
    {
     "data": {
      "text/plain": [
       "0.24068612"
      ]
     },
     "execution_count": 19,
     "metadata": {},
     "output_type": "execute_result"
    }
   ],
   "source": [
    "model.wv.similarity('woman', 'tree')"
   ]
  },
  {
   "cell_type": "code",
   "execution_count": 20,
   "metadata": {},
   "outputs": [
    {
     "name": "stderr",
     "output_type": "stream",
     "text": [
      "/Users/romane/opt/anaconda3/lib/python3.7/site-packages/ipykernel_launcher.py:1: DeprecationWarning: Call to deprecated `wv` (Attribute will be removed in 4.0.0, use self instead).\n",
      "  \"\"\"Entry point for launching an IPython kernel.\n"
     ]
    },
    {
     "data": {
      "text/plain": [
       "0.598446"
      ]
     },
     "execution_count": 20,
     "metadata": {},
     "output_type": "execute_result"
    }
   ],
   "source": [
    "model.wv.similarity('tree', 'shrub')"
   ]
  },
  {
   "cell_type": "code",
   "execution_count": 21,
   "metadata": {},
   "outputs": [
    {
     "name": "stderr",
     "output_type": "stream",
     "text": [
      "/Users/romane/opt/anaconda3/lib/python3.7/site-packages/ipykernel_launcher.py:1: DeprecationWarning: Call to deprecated `wv` (Attribute will be removed in 4.0.0, use self instead).\n",
      "  \"\"\"Entry point for launching an IPython kernel.\n"
     ]
    },
    {
     "data": {
      "text/plain": [
       "0.44554722"
      ]
     },
     "execution_count": 21,
     "metadata": {},
     "output_type": "execute_result"
    }
   ],
   "source": [
    "model.wv.similarity('tree', 'bush')"
   ]
  },
  {
   "cell_type": "code",
   "execution_count": 22,
   "metadata": {},
   "outputs": [
    {
     "name": "stderr",
     "output_type": "stream",
     "text": [
      "/Users/romane/opt/anaconda3/lib/python3.7/site-packages/ipykernel_launcher.py:2: DeprecationWarning: Call to deprecated `wv` (Attribute will be removed in 4.0.0, use self instead).\n",
      "  \n"
     ]
    },
    {
     "data": {
      "text/plain": [
       "0.7593138813972473"
      ]
     },
     "execution_count": 22,
     "metadata": {},
     "output_type": "execute_result"
    }
   ],
   "source": [
    "# distance is just the opposite of similarity\n",
    "model.wv.distance('woman', 'tree')"
   ]
  },
  {
   "cell_type": "code",
   "execution_count": 23,
   "metadata": {},
   "outputs": [
    {
     "name": "stderr",
     "output_type": "stream",
     "text": [
      "/Users/romane/opt/anaconda3/lib/python3.7/site-packages/ipykernel_launcher.py:1: DeprecationWarning: Call to deprecated `wv` (Attribute will be removed in 4.0.0, use self instead).\n",
      "  \"\"\"Entry point for launching an IPython kernel.\n"
     ]
    },
    {
     "data": {
      "text/plain": [
       "1.0"
      ]
     },
     "execution_count": 23,
     "metadata": {},
     "output_type": "execute_result"
    }
   ],
   "source": [
    "model.wv.distance('woman', 'man') + model.wv.similarity('woman', 'man')"
   ]
  },
  {
   "cell_type": "code",
   "execution_count": 24,
   "metadata": {},
   "outputs": [
    {
     "name": "stderr",
     "output_type": "stream",
     "text": [
      "/Users/romane/opt/anaconda3/lib/python3.7/site-packages/ipykernel_launcher.py:2: DeprecationWarning: Call to deprecated `wv` (Attribute will be removed in 4.0.0, use self instead).\n",
      "  \n"
     ]
    },
    {
     "data": {
      "text/plain": [
       "[('man', 0.7664012312889099),\n",
       " ('girl', 0.7494640946388245),\n",
       " ('teenager', 0.631708562374115),\n",
       " ('lady', 0.6288787126541138),\n",
       " ('mother', 0.607630729675293),\n",
       " ('policewoman', 0.6069462299346924),\n",
       " ('boy', 0.5975908041000366),\n",
       " ('Woman', 0.5770983099937439),\n",
       " ('she', 0.5641393661499023),\n",
       " ('WOMAN', 0.5480420589447021)]"
      ]
     },
     "execution_count": 24,
     "metadata": {},
     "output_type": "execute_result"
    }
   ],
   "source": [
    "# closest by cosine similarity\n",
    "model.wv.similar_by_word('woman', topn=10)"
   ]
  },
  {
   "cell_type": "code",
   "execution_count": 36,
   "metadata": {},
   "outputs": [
    {
     "name": "stderr",
     "output_type": "stream",
     "text": [
      "/Users/romane/opt/anaconda3/lib/python3.7/site-packages/ipykernel_launcher.py:2: DeprecationWarning: Call to deprecated `wv` (Attribute will be removed in 4.0.0, use self instead).\n",
      "  \n"
     ]
    },
    {
     "data": {
      "text/plain": [
       "[('cats', 0.8099379539489746),\n",
       " ('dog', 0.7609457969665527),\n",
       " ('kitten', 0.7464984059333801),\n",
       " ('feline', 0.7326234579086304),\n",
       " ('beagle', 0.7150583863258362),\n",
       " ('puppy', 0.7075453400611877),\n",
       " ('pup', 0.6934291124343872),\n",
       " ('pet', 0.6891531348228455),\n",
       " ('felines', 0.6755931377410889),\n",
       " ('chihuahua', 0.6709762811660767)]"
      ]
     },
     "execution_count": 36,
     "metadata": {},
     "output_type": "execute_result"
    }
   ],
   "source": [
    "# closest by cosine similarity\n",
    "model.wv.similar_by_word('cat', topn=10)"
   ]
  },
  {
   "cell_type": "code",
   "execution_count": 26,
   "metadata": {},
   "outputs": [],
   "source": [
    "model.wv.most_similar?"
   ]
  },
  {
   "cell_type": "code",
   "execution_count": 37,
   "metadata": {},
   "outputs": [
    {
     "name": "stderr",
     "output_type": "stream",
     "text": [
      "/Users/romane/opt/anaconda3/lib/python3.7/site-packages/ipykernel_launcher.py:1: DeprecationWarning: Call to deprecated `wv` (Attribute will be removed in 4.0.0, use self instead).\n",
      "  \"\"\"Entry point for launching an IPython kernel.\n"
     ]
    },
    {
     "data": {
      "text/plain": [
       "[('cats', 0.8099379539489746),\n",
       " ('dog', 0.7609457969665527),\n",
       " ('kitten', 0.7464984059333801),\n",
       " ('feline', 0.7326234579086304),\n",
       " ('beagle', 0.7150583863258362),\n",
       " ('puppy', 0.7075453400611877),\n",
       " ('pup', 0.6934291124343872),\n",
       " ('pet', 0.6891531348228455),\n",
       " ('felines', 0.6755931377410889),\n",
       " ('chihuahua', 0.6709762811660767)]"
      ]
     },
     "execution_count": 37,
     "metadata": {},
     "output_type": "execute_result"
    }
   ],
   "source": [
    "model.wv.most_similar(positive=['cat'], topn=10)"
   ]
  },
  {
   "cell_type": "code",
   "execution_count": 38,
   "metadata": {},
   "outputs": [
    {
     "name": "stderr",
     "output_type": "stream",
     "text": [
      "/Users/romane/opt/anaconda3/lib/python3.7/site-packages/ipykernel_launcher.py:1: DeprecationWarning: Call to deprecated `wv` (Attribute will be removed in 4.0.0, use self instead).\n",
      "  \"\"\"Entry point for launching an IPython kernel.\n"
     ]
    },
    {
     "data": {
      "text/plain": [
       "[('Syndicale', 0.19090351462364197),\n",
       " ('involvedin', 0.19022290408611298),\n",
       " ('MIDSTREAM', 0.18107298016548157),\n",
       " ('AIPS', 0.1751096248626709),\n",
       " ('JAF', 0.16483020782470703),\n",
       " ('Nator', 0.1642889678478241),\n",
       " ('SoI', 0.16299599409103394),\n",
       " ('GIULIO', 0.16063831746578217),\n",
       " ('FGS', 0.15692923963069916),\n",
       " ('YEM', 0.15415330231189728)]"
      ]
     },
     "execution_count": 38,
     "metadata": {},
     "output_type": "execute_result"
    }
   ],
   "source": [
    "model.wv.most_similar(negative=['cat'], topn=10)"
   ]
  },
  {
   "cell_type": "code",
   "execution_count": 52,
   "metadata": {},
   "outputs": [
    {
     "name": "stderr",
     "output_type": "stream",
     "text": [
      "/Users/romane/opt/anaconda3/lib/python3.7/site-packages/ipykernel_launcher.py:1: DeprecationWarning: Call to deprecated `wv` (Attribute will be removed in 4.0.0, use self instead).\n",
      "  \"\"\"Entry point for launching an IPython kernel.\n"
     ]
    },
    {
     "data": {
      "text/plain": [
       "[('kitten', 0.78639817237854),\n",
       " ('puppy', 0.7523137331008911),\n",
       " ('pup', 0.7289223670959473),\n",
       " ('puppies', 0.7061880826950073),\n",
       " ('kittens', 0.6959831714630127),\n",
       " ('newborn', 0.6925413608551025),\n",
       " ('cats', 0.6913950443267822),\n",
       " ('dog', 0.6681196689605713),\n",
       " ('infant', 0.6670407056808472),\n",
       " ('babies', 0.6643195152282715)]"
      ]
     },
     "execution_count": 52,
     "metadata": {},
     "output_type": "execute_result"
    }
   ],
   "source": [
    "model.wv.most_similar(positive=['cat', 'baby'], topn=10)"
   ]
  },
  {
   "cell_type": "code",
   "execution_count": 69,
   "metadata": {},
   "outputs": [
    {
     "name": "stderr",
     "output_type": "stream",
     "text": [
      "/Users/romane/opt/anaconda3/lib/python3.7/site-packages/ipykernel_launcher.py:1: DeprecationWarning: Call to deprecated `wv` (Attribute will be removed in 4.0.0, use self instead).\n",
      "  \"\"\"Entry point for launching an IPython kernel.\n"
     ]
    },
    {
     "data": {
      "text/plain": [
       "[('USPS', 0.4894232153892517),\n",
       " ('mailbox', 0.4463164508342743),\n",
       " ('mailing', 0.4420804977416992),\n",
       " ('Yahoo', 0.43995609879493713),\n",
       " ('UPS', 0.43590471148490906),\n",
       " ('mailboxes', 0.41918665170669556),\n",
       " ('FedEx', 0.4184463620185852),\n",
       " ('mailings', 0.41606035828590393),\n",
       " ('GMail', 0.41539356112480164),\n",
       " ('Gmail', 0.41207629442214966)]"
      ]
     },
     "execution_count": 69,
     "metadata": {},
     "output_type": "execute_result"
    }
   ],
   "source": [
    "model.wv.most_similar(positive=['Google', 'mail'], negative=['internet'], topn=10)"
   ]
  },
  {
   "cell_type": "markdown",
   "metadata": {},
   "source": [
    "### Multiplicative combination"
   ]
  },
  {
   "cell_type": "code",
   "execution_count": 31,
   "metadata": {},
   "outputs": [],
   "source": [
    "model.wv.most_similar_cosmul?"
   ]
  },
  {
   "cell_type": "code",
   "execution_count": 32,
   "metadata": {},
   "outputs": [
    {
     "name": "stderr",
     "output_type": "stream",
     "text": [
      "/Users/romane/opt/anaconda3/lib/python3.7/site-packages/ipykernel_launcher.py:1: DeprecationWarning: Call to deprecated `wv` (Attribute will be removed in 4.0.0, use self instead).\n",
      "  \"\"\"Entry point for launching an IPython kernel.\n"
     ]
    },
    {
     "data": {
      "text/plain": [
       "[('queen', 0.9314122200012207),\n",
       " ('monarch', 0.858533501625061),\n",
       " ('princess', 0.8476566076278687),\n",
       " ('queens', 0.8099815249443054),\n",
       " ('monarchy', 0.801961362361908),\n",
       " ('prince', 0.8009798526763916),\n",
       " ('empress', 0.7958388328552246),\n",
       " ('throne', 0.7853889465332031),\n",
       " ('sultan', 0.7844569683074951),\n",
       " ('royal', 0.7835602760314941)]"
      ]
     },
     "execution_count": 32,
     "metadata": {},
     "output_type": "execute_result"
    }
   ],
   "source": [
    "model.wv.most_similar_cosmul(positive=['woman', 'king'], negative=['man'], topn=10)"
   ]
  },
  {
   "cell_type": "code",
   "execution_count": 33,
   "metadata": {},
   "outputs": [
    {
     "name": "stderr",
     "output_type": "stream",
     "text": [
      "/Users/romane/opt/anaconda3/lib/python3.7/site-packages/ipykernel_launcher.py:1: DeprecationWarning: Call to deprecated `wv` (Attribute will be removed in 4.0.0, use self instead).\n",
      "  \"\"\"Entry point for launching an IPython kernel.\n"
     ]
    },
    {
     "data": {
      "text/plain": [
       "[('queen', 0.7118192911148071),\n",
       " ('monarch', 0.6189674735069275),\n",
       " ('princess', 0.5902431607246399),\n",
       " ('prince', 0.5377322435379028),\n",
       " ('kings', 0.5236844420433044),\n",
       " ('queens', 0.5181134343147278),\n",
       " ('sultan', 0.5098593235015869),\n",
       " ('monarchy', 0.5087411999702454),\n",
       " ('throne', 0.5005807280540466),\n",
       " ('royal', 0.4938204884529114)]"
      ]
     },
     "execution_count": 33,
     "metadata": {},
     "output_type": "execute_result"
    }
   ],
   "source": [
    "model.wv.most_similar(positive=['woman', 'king'], negative=['man'], topn=10)"
   ]
  },
  {
   "cell_type": "code",
   "execution_count": 34,
   "metadata": {},
   "outputs": [
    {
     "name": "stderr",
     "output_type": "stream",
     "text": [
      "/Users/romane/opt/anaconda3/lib/python3.7/site-packages/ipykernel_launcher.py:1: DeprecationWarning: Call to deprecated `wv` (Attribute will be removed in 4.0.0, use self instead).\n",
      "  \"\"\"Entry point for launching an IPython kernel.\n"
     ]
    },
    {
     "data": {
      "text/plain": [
       "[('queen', 0.5432848334312439),\n",
       " ('man', 0.5429146885871887),\n",
       " ('princess', 0.5300394296646118),\n",
       " ('prince', 0.5130366683006287),\n",
       " ('girl', 0.5127540826797485),\n",
       " ('monarch', 0.5109155178070068),\n",
       " ('boy', 0.5006506443023682),\n",
       " ('lady', 0.4842751622200012),\n",
       " ('teenager', 0.4837571084499359),\n",
       " ('goddess', 0.4713200628757477)]"
      ]
     },
     "execution_count": 34,
     "metadata": {},
     "output_type": "execute_result"
    }
   ],
   "source": [
    "model.wv.most_similar_cosmul(positive=['woman', 'king'], topn=10)"
   ]
  },
  {
   "cell_type": "code",
   "execution_count": 35,
   "metadata": {},
   "outputs": [
    {
     "name": "stderr",
     "output_type": "stream",
     "text": [
      "/Users/romane/opt/anaconda3/lib/python3.7/site-packages/ipykernel_launcher.py:1: DeprecationWarning: Call to deprecated `wv` (Attribute will be removed in 4.0.0, use self instead).\n",
      "  \"\"\"Entry point for launching an IPython kernel.\n"
     ]
    },
    {
     "data": {
      "text/plain": [
       "[('man', 0.6628609299659729),\n",
       " ('queen', 0.643856406211853),\n",
       " ('girl', 0.6136074066162109),\n",
       " ('princess', 0.6087510585784912),\n",
       " ('monarch', 0.5900576710700989),\n",
       " ('prince', 0.5896846055984497),\n",
       " ('boy', 0.5665285587310791),\n",
       " ('lady', 0.5445605516433716),\n",
       " ('teenager', 0.5442259907722473),\n",
       " ('ruler', 0.5134526491165161)]"
      ]
     },
     "execution_count": 35,
     "metadata": {},
     "output_type": "execute_result"
    }
   ],
   "source": [
    "model.wv.most_similar(positive=['woman', 'king'], topn=10)"
   ]
  }
 ],
 "metadata": {
  "kernelspec": {
   "display_name": "Python 3",
   "language": "python",
   "name": "python3"
  },
  "language_info": {
   "codemirror_mode": {
    "name": "ipython",
    "version": 3
   },
   "file_extension": ".py",
   "mimetype": "text/x-python",
   "name": "python",
   "nbconvert_exporter": "python",
   "pygments_lexer": "ipython3",
   "version": "3.7.4"
  }
 },
 "nbformat": 4,
 "nbformat_minor": 2
}
