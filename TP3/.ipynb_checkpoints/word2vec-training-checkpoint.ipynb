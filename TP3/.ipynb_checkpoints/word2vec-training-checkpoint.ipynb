{
 "cells": [
  {
   "cell_type": "code",
   "execution_count": 1,
   "metadata": {},
   "outputs": [
    {
     "name": "stdout",
     "output_type": "stream",
     "text": [
      "Collecting gensim\n",
      "\u001b[?25l  Downloading https://files.pythonhosted.org/packages/b3/54/1d7294672110d5c0565cabc4b99ed952ced9a2dc2ca1d59ad1b34303a6de/gensim-3.8.1-cp37-cp37m-macosx_10_6_intel.macosx_10_9_intel.macosx_10_9_x86_64.macosx_10_10_intel.macosx_10_10_x86_64.whl (24.7MB)\n",
      "\u001b[K     |████████████████████████████████| 24.7MB 1.1MB/s eta 0:00:01\n",
      "\u001b[?25hCollecting smart-open>=1.8.1 (from gensim)\n",
      "\u001b[?25l  Downloading https://files.pythonhosted.org/packages/0c/09/735f2786dfac9bbf39d244ce75c0313d27d4962e71e0774750dc809f2395/smart_open-1.9.0.tar.gz (70kB)\n",
      "\u001b[K     |████████████████████████████████| 71kB 3.1MB/s eta 0:00:011\n",
      "\u001b[?25hRequirement already satisfied: six>=1.5.0 in /Users/romane/opt/anaconda3/lib/python3.7/site-packages (from gensim) (1.12.0)\n",
      "Requirement already satisfied: numpy>=1.11.3 in /Users/romane/opt/anaconda3/lib/python3.7/site-packages (from gensim) (1.17.2)\n",
      "Requirement already satisfied: scipy>=0.18.1 in /Users/romane/opt/anaconda3/lib/python3.7/site-packages (from gensim) (1.3.1)\n",
      "Requirement already satisfied: boto>=2.32 in /Users/romane/opt/anaconda3/lib/python3.7/site-packages (from smart-open>=1.8.1->gensim) (2.49.0)\n",
      "Requirement already satisfied: requests in /Users/romane/opt/anaconda3/lib/python3.7/site-packages (from smart-open>=1.8.1->gensim) (2.22.0)\n",
      "Collecting boto3 (from smart-open>=1.8.1->gensim)\n",
      "\u001b[?25l  Downloading https://files.pythonhosted.org/packages/b1/ab/7bc346bceb2ae94dcfc1fd6c0644b15afb4b37c5fa53e731c5c5d1b0bcfb/boto3-1.12.18-py2.py3-none-any.whl (128kB)\n",
      "\u001b[K     |████████████████████████████████| 133kB 2.5MB/s eta 0:00:01\n",
      "\u001b[?25hRequirement already satisfied: idna<2.9,>=2.5 in /Users/romane/opt/anaconda3/lib/python3.7/site-packages (from requests->smart-open>=1.8.1->gensim) (2.8)\n",
      "Requirement already satisfied: urllib3!=1.25.0,!=1.25.1,<1.26,>=1.21.1 in /Users/romane/opt/anaconda3/lib/python3.7/site-packages (from requests->smart-open>=1.8.1->gensim) (1.24.2)\n",
      "Requirement already satisfied: certifi>=2017.4.17 in /Users/romane/opt/anaconda3/lib/python3.7/site-packages (from requests->smart-open>=1.8.1->gensim) (2019.9.11)\n",
      "Requirement already satisfied: chardet<3.1.0,>=3.0.2 in /Users/romane/opt/anaconda3/lib/python3.7/site-packages (from requests->smart-open>=1.8.1->gensim) (3.0.4)\n",
      "Collecting s3transfer<0.4.0,>=0.3.0 (from boto3->smart-open>=1.8.1->gensim)\n",
      "\u001b[?25l  Downloading https://files.pythonhosted.org/packages/69/79/e6afb3d8b0b4e96cefbdc690f741d7dd24547ff1f94240c997a26fa908d3/s3transfer-0.3.3-py2.py3-none-any.whl (69kB)\n",
      "\u001b[K     |████████████████████████████████| 71kB 3.1MB/s eta 0:00:011\n",
      "\u001b[?25hCollecting jmespath<1.0.0,>=0.7.1 (from boto3->smart-open>=1.8.1->gensim)\n",
      "  Downloading https://files.pythonhosted.org/packages/a3/43/1e939e1fcd87b827fe192d0c9fc25b48c5b3368902bfb913de7754b0dc03/jmespath-0.9.5-py2.py3-none-any.whl\n",
      "Collecting botocore<1.16.0,>=1.15.18 (from boto3->smart-open>=1.8.1->gensim)\n",
      "\u001b[?25l  Downloading https://files.pythonhosted.org/packages/f6/1f/ad9d6e304dd14e1c6f01ad7f474a989f286510c9aebcb710a1fb65bb9a2e/botocore-1.15.18-py2.py3-none-any.whl (6.0MB)\n",
      "\u001b[K     |████████████████████████████████| 6.0MB 1.1MB/s eta 0:00:01\n",
      "\u001b[?25hRequirement already satisfied: python-dateutil<3.0.0,>=2.1 in /Users/romane/opt/anaconda3/lib/python3.7/site-packages (from botocore<1.16.0,>=1.15.18->boto3->smart-open>=1.8.1->gensim) (2.8.0)\n",
      "Requirement already satisfied: docutils<0.16,>=0.10 in /Users/romane/opt/anaconda3/lib/python3.7/site-packages (from botocore<1.16.0,>=1.15.18->boto3->smart-open>=1.8.1->gensim) (0.15.2)\n",
      "Building wheels for collected packages: smart-open\n",
      "  Building wheel for smart-open (setup.py) ... \u001b[?25ldone\n",
      "\u001b[?25h  Created wheel for smart-open: filename=smart_open-1.9.0-cp37-none-any.whl size=73088 sha256=783cb53d87dba2097481b1549962dbce96c323f1105f45ac865b743f0fe8d82c\n",
      "  Stored in directory: /Users/romane/Library/Caches/pip/wheels/ab/10/93/5cff86f5b721d77edaecc29959b1c60d894be1f66d91407d28\n",
      "Successfully built smart-open\n",
      "Installing collected packages: jmespath, botocore, s3transfer, boto3, smart-open, gensim\n",
      "Successfully installed boto3-1.12.18 botocore-1.15.18 gensim-3.8.1 jmespath-0.9.5 s3transfer-0.3.3 smart-open-1.9.0\n"
     ]
    }
   ],
   "source": [
    "# !pip install gensim"
   ]
  },
  {
   "cell_type": "code",
   "execution_count": 2,
   "metadata": {},
   "outputs": [],
   "source": [
    "import gzip\n",
    "import gensim \n",
    "import pandas as pd"
   ]
  },
  {
   "cell_type": "code",
   "execution_count": 3,
   "metadata": {},
   "outputs": [],
   "source": [
    "data = pd.read_csv(\"bbc-news-dataset.csv\",index_col=0)"
   ]
  },
  {
   "cell_type": "code",
   "execution_count": 4,
   "metadata": {},
   "outputs": [
    {
     "data": {
      "text/html": [
       "<div>\n",
       "<style scoped>\n",
       "    .dataframe tbody tr th:only-of-type {\n",
       "        vertical-align: middle;\n",
       "    }\n",
       "\n",
       "    .dataframe tbody tr th {\n",
       "        vertical-align: top;\n",
       "    }\n",
       "\n",
       "    .dataframe thead th {\n",
       "        text-align: right;\n",
       "    }\n",
       "</style>\n",
       "<table border=\"1\" class=\"dataframe\">\n",
       "  <thead>\n",
       "    <tr style=\"text-align: right;\">\n",
       "      <th></th>\n",
       "      <th>description</th>\n",
       "      <th>tags</th>\n",
       "    </tr>\n",
       "  </thead>\n",
       "  <tbody>\n",
       "    <tr>\n",
       "      <td>0</td>\n",
       "      <td>chelsea sack mutu  chelsea have sacked adrian ...</td>\n",
       "      <td>sports, stamford bridge, football association,...</td>\n",
       "    </tr>\n",
       "    <tr>\n",
       "      <td>1</td>\n",
       "      <td>record fails to lift lacklustre meet  yelena i...</td>\n",
       "      <td>sports, madrid, birmingham, france, scotland, ...</td>\n",
       "    </tr>\n",
       "    <tr>\n",
       "      <td>2</td>\n",
       "      <td>edu describes tunnel fracas  arsenals edu has ...</td>\n",
       "      <td>sports, derby, brazil, tunnel fracasedu, food,...</td>\n",
       "    </tr>\n",
       "    <tr>\n",
       "      <td>3</td>\n",
       "      <td>ogara revels in ireland victory  ireland flyha...</td>\n",
       "      <td>sports, bbc, united kingdom, ireland, brian o'...</td>\n",
       "    </tr>\n",
       "    <tr>\n",
       "      <td>4</td>\n",
       "      <td>unclear future for striker baros  liverpool fo...</td>\n",
       "      <td>sports, liverpool, daily sport, millennium sta...</td>\n",
       "    </tr>\n",
       "    <tr>\n",
       "      <td>5</td>\n",
       "      <td>ronaldo considering new contract  manchester u...</td>\n",
       "      <td>sports, news of the world, portugal, cristiano...</td>\n",
       "    </tr>\n",
       "    <tr>\n",
       "      <td>6</td>\n",
       "      <td>dawson wins england squad recall  wasps scrumh...</td>\n",
       "      <td>sports, leeds, leicester, bath, newport, glouc...</td>\n",
       "    </tr>\n",
       "    <tr>\n",
       "      <td>7</td>\n",
       "      <td>man utd through after exeter test  manchester ...</td>\n",
       "      <td>sports, exeter city, exeter, scholes, tim howa...</td>\n",
       "    </tr>\n",
       "    <tr>\n",
       "      <td>8</td>\n",
       "      <td>barkley fit for match in ireland  england cent...</td>\n",
       "      <td>sports, bath, gloucester, bell, united kingdom...</td>\n",
       "    </tr>\n",
       "    <tr>\n",
       "      <td>9</td>\n",
       "      <td>bristol city  milton keynes  leroy lita took h...</td>\n",
       "      <td>sports, bristol city, bell, chorley, richard j...</td>\n",
       "    </tr>\n",
       "  </tbody>\n",
       "</table>\n",
       "</div>"
      ],
      "text/plain": [
       "                                         description  \\\n",
       "0  chelsea sack mutu  chelsea have sacked adrian ...   \n",
       "1  record fails to lift lacklustre meet  yelena i...   \n",
       "2  edu describes tunnel fracas  arsenals edu has ...   \n",
       "3  ogara revels in ireland victory  ireland flyha...   \n",
       "4  unclear future for striker baros  liverpool fo...   \n",
       "5  ronaldo considering new contract  manchester u...   \n",
       "6  dawson wins england squad recall  wasps scrumh...   \n",
       "7  man utd through after exeter test  manchester ...   \n",
       "8  barkley fit for match in ireland  england cent...   \n",
       "9  bristol city  milton keynes  leroy lita took h...   \n",
       "\n",
       "                                                tags  \n",
       "0  sports, stamford bridge, football association,...  \n",
       "1  sports, madrid, birmingham, france, scotland, ...  \n",
       "2  sports, derby, brazil, tunnel fracasedu, food,...  \n",
       "3  sports, bbc, united kingdom, ireland, brian o'...  \n",
       "4  sports, liverpool, daily sport, millennium sta...  \n",
       "5  sports, news of the world, portugal, cristiano...  \n",
       "6  sports, leeds, leicester, bath, newport, glouc...  \n",
       "7  sports, exeter city, exeter, scholes, tim howa...  \n",
       "8  sports, bath, gloucester, bell, united kingdom...  \n",
       "9  sports, bristol city, bell, chorley, richard j...  "
      ]
     },
     "execution_count": 4,
     "metadata": {},
     "output_type": "execute_result"
    }
   ],
   "source": [
    "data.head(10)"
   ]
  },
  {
   "cell_type": "code",
   "execution_count": 5,
   "metadata": {},
   "outputs": [
    {
     "data": {
      "text/plain": [
       "0    chelsea sack mutu  chelsea have sacked adrian ...\n",
       "1    record fails to lift lacklustre meet  yelena i...\n",
       "2    edu describes tunnel fracas  arsenals edu has ...\n",
       "3    ogara revels in ireland victory  ireland flyha...\n",
       "4    unclear future for striker baros  liverpool fo...\n",
       "5    ronaldo considering new contract  manchester u...\n",
       "6    dawson wins england squad recall  wasps scrumh...\n",
       "7    man utd through after exeter test  manchester ...\n",
       "8    barkley fit for match in ireland  england cent...\n",
       "9    bristol city  milton keynes  leroy lita took h...\n",
       "Name: description, dtype: object"
      ]
     },
     "execution_count": 5,
     "metadata": {},
     "output_type": "execute_result"
    }
   ],
   "source": [
    "data['description'].head(10)"
   ]
  },
  {
   "cell_type": "code",
   "execution_count": 6,
   "metadata": {},
   "outputs": [],
   "source": [
    "# preprocess using gensim.utils.simple_preprocess function\n",
    "data['description_preprocessed'] = data['description'].apply(lambda x: gensim.utils.simple_preprocess(x))"
   ]
  },
  {
   "cell_type": "code",
   "execution_count": 7,
   "metadata": {},
   "outputs": [
    {
     "data": {
      "text/plain": [
       "0    [chelsea, sack, mutu, chelsea, have, sacked, a...\n",
       "1    [record, fails, to, lift, lacklustre, meet, ye...\n",
       "2    [edu, describes, tunnel, fracas, arsenals, edu...\n",
       "3    [ogara, revels, in, ireland, victory, ireland,...\n",
       "4    [unclear, future, for, striker, baros, liverpo...\n",
       "5    [ronaldo, considering, new, contract, manchest...\n",
       "6    [dawson, wins, england, squad, recall, wasps, ...\n",
       "7    [man, utd, through, after, exeter, test, manch...\n",
       "8    [barkley, fit, for, match, in, ireland, englan...\n",
       "9    [bristol, city, milton, keynes, leroy, lita, t...\n",
       "Name: description_preprocessed, dtype: object"
      ]
     },
     "execution_count": 7,
     "metadata": {},
     "output_type": "execute_result"
    }
   ],
   "source": [
    "data['description_preprocessed'].head(10)"
   ]
  },
  {
   "cell_type": "code",
   "execution_count": 8,
   "metadata": {},
   "outputs": [],
   "source": [
    "# build vocabulary and train model\n",
    "model = gensim.models.Word2Vec(\n",
    "    data['description_preprocessed'].tolist(),\n",
    "    size=150,\n",
    "    window=10,\n",
    "    min_count=2,\n",
    "    workers=-1,\n",
    "    iter=10)"
   ]
  },
  {
   "cell_type": "code",
   "execution_count": 9,
   "metadata": {},
   "outputs": [
    {
     "data": {
      "text/plain": [
       "[('fourthlargest', 0.3472214937210083),\n",
       " ('administered', 0.33189481496810913),\n",
       " ('newest', 0.2791284918785095),\n",
       " ('wants', 0.2786978483200073),\n",
       " ('gorgeous', 0.27281010150909424),\n",
       " ('clans', 0.2710058391094208),\n",
       " ('twothirds', 0.2707524001598358),\n",
       " ('seoul', 0.269503653049469),\n",
       " ('solicitations', 0.2685684561729431),\n",
       " ('bookmakers', 0.26837918162345886)]"
      ]
     },
     "execution_count": 9,
     "metadata": {},
     "output_type": "execute_result"
    }
   ],
   "source": [
    "# Done building the model, let's look at some results\n",
    "w1 = \"prince\"\n",
    "model.wv.most_similar (positive=w1)"
   ]
  },
  {
   "cell_type": "code",
   "execution_count": 10,
   "metadata": {},
   "outputs": [
    {
     "data": {
      "text/plain": [
       "[('authenticity', 0.3021509051322937),\n",
       " ('norm', 0.284837543964386),\n",
       " ('fourthquarter', 0.27502745389938354),\n",
       " ('supercool', 0.266384482383728),\n",
       " ('downloads', 0.2660205364227295),\n",
       " ('islands', 0.26430320739746094)]"
      ]
     },
     "execution_count": 10,
     "metadata": {},
     "output_type": "execute_result"
    }
   ],
   "source": [
    "# look up top 6 words similar to 'science'\n",
    "w2 = [\"science\"]\n",
    "model.wv.most_similar (positive=w2,topn=6)"
   ]
  },
  {
   "cell_type": "code",
   "execution_count": 11,
   "metadata": {},
   "outputs": [
    {
     "data": {
      "text/plain": [
       "[('cringe', 0.29430681467056274),\n",
       " ('ping', 0.29037728905677795),\n",
       " ('currencys', 0.28957635164260864),\n",
       " ('snaps', 0.28214696049690247),\n",
       " ('stiller', 0.28142887353897095),\n",
       " ('fragmented', 0.28002816438674927)]"
      ]
     },
     "execution_count": 11,
     "metadata": {},
     "output_type": "execute_result"
    }
   ],
   "source": [
    "# look up top 6 words similar to 'france'\n",
    "w3 = [\"france\"]\n",
    "model.wv.most_similar (positive=w3,topn=6)"
   ]
  }
 ],
 "metadata": {
  "kernelspec": {
   "display_name": "Python 3",
   "language": "python",
   "name": "python3"
  },
  "language_info": {
   "codemirror_mode": {
    "name": "ipython",
    "version": 3
   },
   "file_extension": ".py",
   "mimetype": "text/x-python",
   "name": "python",
   "nbconvert_exporter": "python",
   "pygments_lexer": "ipython3",
   "version": "3.7.4"
  }
 },
 "nbformat": 4,
 "nbformat_minor": 4
}
