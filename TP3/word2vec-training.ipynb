{
 "cells": [
  {
   "cell_type": "code",
   "execution_count": 1,
   "metadata": {},
   "outputs": [],
   "source": [
    "# !pip install gensim"
   ]
  },
  {
   "cell_type": "code",
   "execution_count": 2,
   "metadata": {},
   "outputs": [],
   "source": [
    "import gzip\n",
    "import gensim \n",
    "import pandas as pd"
   ]
  },
  {
   "cell_type": "code",
   "execution_count": 3,
   "metadata": {},
   "outputs": [],
   "source": [
    "data = pd.read_csv(\"bbc-news-dataset.csv\",index_col=0)"
   ]
  },
  {
   "cell_type": "code",
   "execution_count": 4,
   "metadata": {},
   "outputs": [
    {
     "data": {
      "text/html": [
       "<div>\n",
       "<style scoped>\n",
       "    .dataframe tbody tr th:only-of-type {\n",
       "        vertical-align: middle;\n",
       "    }\n",
       "\n",
       "    .dataframe tbody tr th {\n",
       "        vertical-align: top;\n",
       "    }\n",
       "\n",
       "    .dataframe thead th {\n",
       "        text-align: right;\n",
       "    }\n",
       "</style>\n",
       "<table border=\"1\" class=\"dataframe\">\n",
       "  <thead>\n",
       "    <tr style=\"text-align: right;\">\n",
       "      <th></th>\n",
       "      <th>description</th>\n",
       "      <th>tags</th>\n",
       "    </tr>\n",
       "  </thead>\n",
       "  <tbody>\n",
       "    <tr>\n",
       "      <td>0</td>\n",
       "      <td>chelsea sack mutu  chelsea have sacked adrian ...</td>\n",
       "      <td>sports, stamford bridge, football association,...</td>\n",
       "    </tr>\n",
       "    <tr>\n",
       "      <td>1</td>\n",
       "      <td>record fails to lift lacklustre meet  yelena i...</td>\n",
       "      <td>sports, madrid, birmingham, france, scotland, ...</td>\n",
       "    </tr>\n",
       "    <tr>\n",
       "      <td>2</td>\n",
       "      <td>edu describes tunnel fracas  arsenals edu has ...</td>\n",
       "      <td>sports, derby, brazil, tunnel fracasedu, food,...</td>\n",
       "    </tr>\n",
       "    <tr>\n",
       "      <td>3</td>\n",
       "      <td>ogara revels in ireland victory  ireland flyha...</td>\n",
       "      <td>sports, bbc, united kingdom, ireland, brian o'...</td>\n",
       "    </tr>\n",
       "    <tr>\n",
       "      <td>4</td>\n",
       "      <td>unclear future for striker baros  liverpool fo...</td>\n",
       "      <td>sports, liverpool, daily sport, millennium sta...</td>\n",
       "    </tr>\n",
       "    <tr>\n",
       "      <td>5</td>\n",
       "      <td>ronaldo considering new contract  manchester u...</td>\n",
       "      <td>sports, news of the world, portugal, cristiano...</td>\n",
       "    </tr>\n",
       "    <tr>\n",
       "      <td>6</td>\n",
       "      <td>dawson wins england squad recall  wasps scrumh...</td>\n",
       "      <td>sports, leeds, leicester, bath, newport, glouc...</td>\n",
       "    </tr>\n",
       "    <tr>\n",
       "      <td>7</td>\n",
       "      <td>man utd through after exeter test  manchester ...</td>\n",
       "      <td>sports, exeter city, exeter, scholes, tim howa...</td>\n",
       "    </tr>\n",
       "    <tr>\n",
       "      <td>8</td>\n",
       "      <td>barkley fit for match in ireland  england cent...</td>\n",
       "      <td>sports, bath, gloucester, bell, united kingdom...</td>\n",
       "    </tr>\n",
       "    <tr>\n",
       "      <td>9</td>\n",
       "      <td>bristol city  milton keynes  leroy lita took h...</td>\n",
       "      <td>sports, bristol city, bell, chorley, richard j...</td>\n",
       "    </tr>\n",
       "  </tbody>\n",
       "</table>\n",
       "</div>"
      ],
      "text/plain": [
       "                                         description  \\\n",
       "0  chelsea sack mutu  chelsea have sacked adrian ...   \n",
       "1  record fails to lift lacklustre meet  yelena i...   \n",
       "2  edu describes tunnel fracas  arsenals edu has ...   \n",
       "3  ogara revels in ireland victory  ireland flyha...   \n",
       "4  unclear future for striker baros  liverpool fo...   \n",
       "5  ronaldo considering new contract  manchester u...   \n",
       "6  dawson wins england squad recall  wasps scrumh...   \n",
       "7  man utd through after exeter test  manchester ...   \n",
       "8  barkley fit for match in ireland  england cent...   \n",
       "9  bristol city  milton keynes  leroy lita took h...   \n",
       "\n",
       "                                                tags  \n",
       "0  sports, stamford bridge, football association,...  \n",
       "1  sports, madrid, birmingham, france, scotland, ...  \n",
       "2  sports, derby, brazil, tunnel fracasedu, food,...  \n",
       "3  sports, bbc, united kingdom, ireland, brian o'...  \n",
       "4  sports, liverpool, daily sport, millennium sta...  \n",
       "5  sports, news of the world, portugal, cristiano...  \n",
       "6  sports, leeds, leicester, bath, newport, glouc...  \n",
       "7  sports, exeter city, exeter, scholes, tim howa...  \n",
       "8  sports, bath, gloucester, bell, united kingdom...  \n",
       "9  sports, bristol city, bell, chorley, richard j...  "
      ]
     },
     "execution_count": 4,
     "metadata": {},
     "output_type": "execute_result"
    }
   ],
   "source": [
    "data.head(10)"
   ]
  },
  {
   "cell_type": "code",
   "execution_count": 5,
   "metadata": {},
   "outputs": [
    {
     "data": {
      "text/plain": [
       "0    chelsea sack mutu  chelsea have sacked adrian ...\n",
       "1    record fails to lift lacklustre meet  yelena i...\n",
       "2    edu describes tunnel fracas  arsenals edu has ...\n",
       "3    ogara revels in ireland victory  ireland flyha...\n",
       "4    unclear future for striker baros  liverpool fo...\n",
       "5    ronaldo considering new contract  manchester u...\n",
       "6    dawson wins england squad recall  wasps scrumh...\n",
       "7    man utd through after exeter test  manchester ...\n",
       "8    barkley fit for match in ireland  england cent...\n",
       "9    bristol city  milton keynes  leroy lita took h...\n",
       "Name: description, dtype: object"
      ]
     },
     "execution_count": 5,
     "metadata": {},
     "output_type": "execute_result"
    }
   ],
   "source": [
    "data['description'].head(10)"
   ]
  },
  {
   "cell_type": "code",
   "execution_count": 6,
   "metadata": {},
   "outputs": [],
   "source": [
    "# preprocess using gensim.utils.simple_preprocess function\n",
    "data['description_preprocessed'] = data['description'].apply(lambda x: gensim.utils.simple_preprocess(x))"
   ]
  },
  {
   "cell_type": "code",
   "execution_count": 7,
   "metadata": {},
   "outputs": [
    {
     "data": {
      "text/plain": [
       "0    [chelsea, sack, mutu, chelsea, have, sacked, a...\n",
       "1    [record, fails, to, lift, lacklustre, meet, ye...\n",
       "2    [edu, describes, tunnel, fracas, arsenals, edu...\n",
       "3    [ogara, revels, in, ireland, victory, ireland,...\n",
       "4    [unclear, future, for, striker, baros, liverpo...\n",
       "5    [ronaldo, considering, new, contract, manchest...\n",
       "6    [dawson, wins, england, squad, recall, wasps, ...\n",
       "7    [man, utd, through, after, exeter, test, manch...\n",
       "8    [barkley, fit, for, match, in, ireland, englan...\n",
       "9    [bristol, city, milton, keynes, leroy, lita, t...\n",
       "Name: description_preprocessed, dtype: object"
      ]
     },
     "execution_count": 7,
     "metadata": {},
     "output_type": "execute_result"
    }
   ],
   "source": [
    "data['description_preprocessed'].head(10)"
   ]
  },
  {
   "cell_type": "code",
   "execution_count": 8,
   "metadata": {},
   "outputs": [],
   "source": [
    "# build vocabulary and train model\n",
    "model = gensim.models.Word2Vec(\n",
    "    data['description_preprocessed'].tolist(),\n",
    "    size=150,\n",
    "    window=10,\n",
    "    min_count=2,\n",
    "    workers=-1,\n",
    "    iter=10)"
   ]
  },
  {
   "cell_type": "code",
   "execution_count": 9,
   "metadata": {},
   "outputs": [
    {
     "data": {
      "text/plain": [
       "[('carlton', 0.30973637104034424),\n",
       " ('weblinks', 0.2954216003417969),\n",
       " ('conservative', 0.29529649019241333),\n",
       " ('notching', 0.2908666729927063),\n",
       " ('touring', 0.2877381443977356),\n",
       " ('parliamentary', 0.2825753092765808),\n",
       " ('intro', 0.2783874571323395),\n",
       " ('carragher', 0.27638813853263855),\n",
       " ('except', 0.274957537651062),\n",
       " ('rehearsals', 0.2658315896987915)]"
      ]
     },
     "execution_count": 9,
     "metadata": {},
     "output_type": "execute_result"
    }
   ],
   "source": [
    "# Done building the model, let's look at some results\n",
    "w1 = \"prince\"\n",
    "model.wv.most_similar (positive=w1)"
   ]
  },
  {
   "cell_type": "code",
   "execution_count": 10,
   "metadata": {},
   "outputs": [
    {
     "data": {
      "text/plain": [
       "[('discontinue', 0.28968656063079834),\n",
       " ('hungarian', 0.28834304213523865),\n",
       " ('rewarding', 0.2826803922653198),\n",
       " ('texts', 0.27378880977630615),\n",
       " ('deposits', 0.2737464904785156),\n",
       " ('listened', 0.2668917179107666)]"
      ]
     },
     "execution_count": 10,
     "metadata": {},
     "output_type": "execute_result"
    }
   ],
   "source": [
    "# look up top 6 words similar to 'science'\n",
    "w2 = [\"science\"]\n",
    "model.wv.most_similar (positive=w2,topn=6)"
   ]
  },
  {
   "cell_type": "code",
   "execution_count": 11,
   "metadata": {},
   "outputs": [
    {
     "data": {
      "text/plain": [
       "[('zombic', 0.3258487582206726),\n",
       " ('lambert', 0.30990850925445557),\n",
       " ('upto', 0.30678611993789673),\n",
       " ('disorientating', 0.28366905450820923),\n",
       " ('scandals', 0.28164923191070557),\n",
       " ('beynon', 0.28144097328186035)]"
      ]
     },
     "execution_count": 11,
     "metadata": {},
     "output_type": "execute_result"
    }
   ],
   "source": [
    "# look up top 6 words similar to 'france'\n",
    "w3 = [\"france\"]\n",
    "model.wv.most_similar (positive=w3,topn=6)"
   ]
  }
 ],
 "metadata": {
  "kernelspec": {
   "display_name": "Python 3",
   "language": "python",
   "name": "python3"
  },
  "language_info": {
   "codemirror_mode": {
    "name": "ipython",
    "version": 3
   },
   "file_extension": ".py",
   "mimetype": "text/x-python",
   "name": "python",
   "nbconvert_exporter": "python",
   "pygments_lexer": "ipython3",
   "version": "3.7.4"
  }
 },
 "nbformat": 4,
 "nbformat_minor": 4
}
