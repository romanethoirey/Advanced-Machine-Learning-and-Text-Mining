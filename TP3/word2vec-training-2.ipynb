{
 "cells": [
  {
   "cell_type": "markdown",
   "metadata": {},
   "source": [
    "# Intro and setup"
   ]
  },
  {
   "cell_type": "markdown",
   "metadata": {},
   "source": [
    "This notebook demonstrates the use of word2vec in Python using the  [gensim libraries](https://github.com/RaRe-Technologies/gensim).  Information is available on the [gensim website](https://radimrehurek.com/gensim/index.html) along with tutorials and the [API](https://radimrehurek.com/gensim/apiref.html). \n",
    "\n",
    "You can install them to your local machine using the command:\n",
    "```\n",
    "pip install --upgrade gensim\n",
    "```"
   ]
  },
  {
   "cell_type": "code",
   "execution_count": 1,
   "metadata": {},
   "outputs": [
    {
     "name": "stdout",
     "output_type": "stream",
     "text": [
      "Pretty printing has been turned OFF\n"
     ]
    }
   ],
   "source": [
    "# turn off pretty printing to get horizontal display - optional, but I'm saving space for display\n",
    "%pprint"
   ]
  },
  {
   "cell_type": "code",
   "execution_count": 2,
   "metadata": {},
   "outputs": [],
   "source": [
    "import os"
   ]
  },
  {
   "cell_type": "markdown",
   "metadata": {},
   "source": [
    "# Data"
   ]
  },
  {
   "cell_type": "code",
   "execution_count": 3,
   "metadata": {},
   "outputs": [],
   "source": [
    "with open('shakespeare.txt', 'r') as f:\n",
    "    raw_data = f.read()"
   ]
  },
  {
   "cell_type": "code",
   "execution_count": 4,
   "metadata": {},
   "outputs": [
    {
     "data": {
      "text/plain": [
       "<class 'str'>"
      ]
     },
     "execution_count": 4,
     "metadata": {},
     "output_type": "execute_result"
    }
   ],
   "source": [
    "type(raw_data)"
   ]
  },
  {
   "cell_type": "code",
   "execution_count": 5,
   "metadata": {},
   "outputs": [
    {
     "data": {
      "text/plain": [
       "\"A MIDSUMMER-NIGHT'S DREAM\\n\\nNow , fair Hippolyta , our nuptial hour \\nDraws on apace : four happy days bring in \\nAnother moon ; but O ! methinks how slow \\nThis old moon wanes ; she lingers my desires ,\\nLike to a step dame , or a dowager \\nLong withering out a young man's revenue .\\n\\nFour days will quickly steep themselves in night ;\\nFour nights will quickly dream away the time ;\\nAnd then the moon , like to a silver bow \\nNew-bent in heaven , shall behold the night \\nOf our solemnities .\\n\\nGo , Philostrate ,\\nStir up the Athenian youth to merriments ;\\nAwake the pert and nimble spirit of mirth ;\\nTurn melancholy forth to funerals ;\\nThe pale companion is not for our pomp .\\n\\nHippolyta , I woo'd thee with my sword ,\\nAnd won thy love doing thee injuries ;\\nBut I will wed thee in another key ,\\nWith pomp , with triumph , and with revelling .\\n\\n\\nHappy be Theseus , our renowned duke !\\n\\nThanks , good Egeus : what's the news with thee ?\\n\\nFull of vexation come I , with complaint \\nAgainst my child , my daughte\""
      ]
     },
     "execution_count": 5,
     "metadata": {},
     "output_type": "execute_result"
    }
   ],
   "source": [
    "# what does it look like?\n",
    "raw_data[:1000]"
   ]
  },
  {
   "cell_type": "code",
   "execution_count": 6,
   "metadata": {},
   "outputs": [],
   "source": [
    "words = raw_data.split()"
   ]
  },
  {
   "cell_type": "code",
   "execution_count": 7,
   "metadata": {},
   "outputs": [
    {
     "data": {
      "text/plain": [
       "980637"
      ]
     },
     "execution_count": 7,
     "metadata": {},
     "output_type": "execute_result"
    }
   ],
   "source": [
    "len(words)"
   ]
  },
  {
   "cell_type": "code",
   "execution_count": 8,
   "metadata": {},
   "outputs": [
    {
     "data": {
      "text/plain": [
       "33505"
      ]
     },
     "execution_count": 8,
     "metadata": {},
     "output_type": "execute_result"
    }
   ],
   "source": [
    "# how many unique words?\n",
    "len(set(words))"
   ]
  },
  {
   "cell_type": "code",
   "execution_count": 9,
   "metadata": {},
   "outputs": [
    {
     "data": {
      "text/plain": [
       "['indifferent', 'moody-mad', 'proposes', 'disannul', \"parent's\", 'touchstone', 'boors', \"Dove-feather'd\", 'fifth', 'hodge-pudding', \"brew'd\", 'first', 'Somebody', 'injunction', 'Gallian', 'honourable-dangerous', 'Thrice', 'fringed', 'neighbour-stained', 'thaws', 'sweatest', \"ravin'd\", 'pretext', 'overcast', 'commixtion', 'Ancient', 'witty', 'carters', 'Towards', 'patines', 'easy-yielding', 'Ethiopian', 'Puff', 'chest', 'encamped', \"prun'st\", 'wickedness', 'shorter', 'Esteem', 'destroy', \"moreo'er\", 'forefended', 'missives', \"Gabriel's\", \"money's\", 'Virginity', 'affecting', 'dauntless', 'contemptuously', 'king-cardinal', 'Bosom', 'Wax', 'dresser', 'Vaudemont', \"park'd\", \"Cynthia's\", \"Perform'd\", 'northward', 'delivered', 'Took', \"disclaim'd\", 'workings', 'bedward', 'Startles', 'lamentation', \"deriv'd\", \"Mail'd\", 'brief', \"maim'd\", 'incur', 'sedges', 'unquietly', 'Augment', 'fealty', 'another', 'warming-pan', 'squeal', 'asketh', 'napkins', 'marking', 'smell', 'places', \"'be\", 'purse-taking', 'belike', 'dirt-rotten', 'Teach', 'louted', 'keeps', 'earliest', 'aidance', 'passages', 'Piteous', 'others', 'glares', 'unexperienced', 'pursued', 'gallowglasses', 'mislike', \"pluck'd\"]"
      ]
     },
     "execution_count": 9,
     "metadata": {},
     "output_type": "execute_result"
    }
   ],
   "source": [
    "# the kinds of words you might expect from shakespeare\n",
    "list(set(words))[:100]"
   ]
  },
  {
   "cell_type": "markdown",
   "metadata": {},
   "source": [
    "# Gensim"
   ]
  },
  {
   "cell_type": "code",
   "execution_count": 10,
   "metadata": {},
   "outputs": [],
   "source": [
    "import gensim"
   ]
  },
  {
   "cell_type": "markdown",
   "metadata": {},
   "source": [
    "## Setup data\n",
    "`gensim.models` takes a corpus broken into sentences.  I'm using the `Text8Corpus` iterator that comes as part of the `word2vec` class.  You can use any other data as long as you create an iterable to yield sentences."
   ]
  },
  {
   "cell_type": "code",
   "execution_count": 11,
   "metadata": {},
   "outputs": [],
   "source": [
    "from gensim.summarization.textcleaner import split_sentences\n",
    "model = gensim.models.Word2Vec(\n",
    "    [[str(word) for word in sentence.split()] for sentence in split_sentences(raw_data)],\n",
    "    size=150,\n",
    "    window=10,\n",
    "    min_count=2,\n",
    "    workers=-1,\n",
    "    iter=10)"
   ]
  },
  {
   "cell_type": "markdown",
   "metadata": {},
   "source": [
    "## run model"
   ]
  },
  {
   "cell_type": "code",
   "execution_count": 12,
   "metadata": {},
   "outputs": [],
   "source": [
    "# save it as binary\n",
    "model.save('demo-model')"
   ]
  },
  {
   "cell_type": "code",
   "execution_count": 13,
   "metadata": {},
   "outputs": [
    {
     "name": "stdout",
     "output_type": "stream",
     "text": [
      "Word2Vec(vocab=17786, size=150, alpha=0.025)\n"
     ]
    }
   ],
   "source": [
    "print(model)"
   ]
  },
  {
   "cell_type": "markdown",
   "metadata": {},
   "source": [
    "## Vocabulary"
   ]
  },
  {
   "cell_type": "code",
   "execution_count": 14,
   "metadata": {},
   "outputs": [],
   "source": [
    "# get list of word vectors\n",
    "model_words = list(model.wv.vocab)"
   ]
  },
  {
   "cell_type": "code",
   "execution_count": 15,
   "metadata": {},
   "outputs": [
    {
     "data": {
      "text/plain": [
       "17786"
      ]
     },
     "execution_count": 15,
     "metadata": {},
     "output_type": "execute_result"
    }
   ],
   "source": [
    "len(model_words)"
   ]
  },
  {
   "cell_type": "code",
   "execution_count": 16,
   "metadata": {},
   "outputs": [],
   "source": [
    "# get sorted list of word vectors\n",
    "words_indexes = list(model.wv.index2word)"
   ]
  },
  {
   "cell_type": "code",
   "execution_count": 17,
   "metadata": {},
   "outputs": [
    {
     "data": {
      "text/plain": [
       "17786"
      ]
     },
     "execution_count": 17,
     "metadata": {},
     "output_type": "execute_result"
    }
   ],
   "source": [
    "len(words_indexes)"
   ]
  },
  {
   "cell_type": "code",
   "execution_count": 18,
   "metadata": {},
   "outputs": [
    {
     "data": {
      "text/plain": [
       "['A', \"MIDSUMMER-NIGHT'S\", 'DREAM', 'Now', ',', 'fair', 'Hippolyta', ',', 'our', 'nuptial', 'hour', 'Draws', 'on', 'apace', ':', 'four', 'happy', 'days', 'bring', 'in']"
      ]
     },
     "execution_count": 18,
     "metadata": {},
     "output_type": "execute_result"
    }
   ],
   "source": [
    "words[:20]"
   ]
  },
  {
   "cell_type": "code",
   "execution_count": 19,
   "metadata": {},
   "outputs": [
    {
     "data": {
      "text/plain": [
       "81"
      ]
     },
     "execution_count": 19,
     "metadata": {},
     "output_type": "execute_result"
    }
   ],
   "source": [
    "# check the index for a word\n",
    "model.wv.vocab['one'].index"
   ]
  },
  {
   "cell_type": "markdown",
   "metadata": {},
   "source": [
    "## Vectors"
   ]
  },
  {
   "cell_type": "code",
   "execution_count": 20,
   "metadata": {},
   "outputs": [],
   "source": [
    "model.wv?"
   ]
  },
  {
   "cell_type": "code",
   "execution_count": 21,
   "metadata": {},
   "outputs": [
    {
     "data": {
      "text/plain": [
       "array([-1.8152921e-03,  5.6478905e-04, -7.8418496e-04, -3.6449387e-04,\n",
       "        1.6285548e-03, -5.0214748e-04,  2.1059131e-03, -2.0875765e-03,\n",
       "       -3.3218879e-03,  2.1152066e-03,  1.4569993e-03,  2.9110848e-03,\n",
       "        3.9236867e-04,  2.3824876e-04, -1.7436886e-03,  1.1234558e-03,\n",
       "       -1.3874199e-03,  3.9341021e-04,  3.0808896e-03, -3.2899153e-04,\n",
       "        7.5272325e-04,  2.4378495e-03,  1.1028055e-03,  1.6816900e-03,\n",
       "        2.4801707e-03,  4.6861434e-04, -9.6394437e-08,  1.5737962e-03,\n",
       "       -2.4646814e-03,  8.8448462e-04, -2.5674489e-03,  1.2114829e-03,\n",
       "       -2.6967127e-03, -8.7054499e-04,  1.8452557e-03,  2.0516629e-03,\n",
       "        2.2942019e-03,  1.0021572e-03,  1.5452539e-03, -3.0509108e-03,\n",
       "       -2.5775989e-03,  1.3247338e-03, -4.2071668e-05,  1.8963421e-04,\n",
       "       -2.0919945e-03,  3.1433594e-03, -3.1250105e-03, -1.2731816e-03,\n",
       "       -1.8060119e-03, -3.2136030e-03,  3.8091379e-04, -1.3472907e-03,\n",
       "        2.6351626e-03, -2.1840718e-03, -1.9669659e-03,  1.1153348e-03,\n",
       "       -1.8592655e-03, -3.0032772e-04, -3.0628913e-03,  2.4955843e-03,\n",
       "        1.0047390e-03,  1.9393315e-03, -4.0702760e-04,  2.9092873e-03,\n",
       "       -3.5467604e-04, -8.6569006e-04, -8.6958671e-04, -2.5785801e-03,\n",
       "       -1.1408445e-03,  2.3841988e-03,  5.0032537e-05,  2.1277471e-03,\n",
       "       -2.8398752e-04, -1.6582084e-03, -1.3382119e-03, -1.8889932e-03,\n",
       "       -6.7349820e-04,  4.9478252e-04,  6.9185707e-04, -1.2123210e-03,\n",
       "       -1.9456976e-03,  2.0237162e-03, -1.5469370e-03,  1.1135751e-04,\n",
       "       -1.6052922e-04, -2.5114042e-03,  2.9419588e-03,  1.6386573e-03,\n",
       "        1.9081753e-03,  2.3572505e-03, -4.5693864e-04,  1.1945908e-03,\n",
       "        2.6093221e-03,  1.6405404e-03,  6.6481251e-04,  2.2081994e-03,\n",
       "        1.8344964e-03, -2.8677313e-03,  4.9369450e-04,  1.6800058e-03,\n",
       "        3.0180782e-03,  4.0426414e-04,  1.6041305e-03,  1.8187759e-03,\n",
       "       -7.0332352e-04, -1.3442255e-03, -2.3779946e-03,  2.9241296e-03,\n",
       "       -3.0352941e-03,  3.0260449e-03,  2.7246391e-03, -2.6458199e-03,\n",
       "        9.3360560e-04, -2.3779857e-03,  8.3005558e-05, -2.4737683e-03,\n",
       "        1.5324627e-03,  2.4178398e-03,  3.0073796e-03,  9.0939493e-04,\n",
       "       -2.8293671e-03, -2.1730808e-03,  1.2575635e-03,  2.0461201e-03,\n",
       "        1.5090469e-03, -2.8518897e-03,  8.4014819e-04, -3.2136592e-03,\n",
       "       -2.6221639e-03,  8.3633138e-05,  2.7376311e-03,  4.0960094e-04,\n",
       "       -2.6685528e-03, -2.1875035e-03,  2.9058743e-03,  1.8154326e-03,\n",
       "       -3.0985535e-03, -2.6729186e-03,  1.9094386e-03,  3.2489817e-03,\n",
       "        2.9912074e-03,  3.1800685e-04, -1.2908636e-03,  1.4683070e-03,\n",
       "       -1.2541971e-03,  1.3824197e-03,  2.6191907e-05,  2.4577857e-03,\n",
       "       -9.1861084e-04, -1.5529067e-03], dtype=float32)"
      ]
     },
     "execution_count": 21,
     "metadata": {},
     "output_type": "execute_result"
    }
   ],
   "source": [
    "model.wv.get_vector('one')"
   ]
  },
  {
   "cell_type": "code",
   "execution_count": 22,
   "metadata": {},
   "outputs": [
    {
     "data": {
      "text/plain": [
       "150"
      ]
     },
     "execution_count": 22,
     "metadata": {},
     "output_type": "execute_result"
    }
   ],
   "source": [
    "len(model.wv.get_vector('one'))"
   ]
  },
  {
   "cell_type": "markdown",
   "metadata": {},
   "source": [
    "### Distance from mean\n",
    "<a id=\"distance-from-mean\"></a>"
   ]
  },
  {
   "cell_type": "code",
   "execution_count": 23,
   "metadata": {},
   "outputs": [],
   "source": [
    "model.wv.doesnt_match?"
   ]
  },
  {
   "cell_type": "code",
   "execution_count": 24,
   "metadata": {},
   "outputs": [
    {
     "name": "stderr",
     "output_type": "stream",
     "text": [
      "/Users/romane/opt/anaconda3/lib/python3.7/site-packages/gensim/models/keyedvectors.py:877: FutureWarning: arrays to stack must be passed as a \"sequence\" type such as list or tuple. Support for non-sequence iterables such as generators is deprecated as of NumPy 1.16 and will raise an error in the future.\n",
      "  vectors = vstack(self.word_vec(word, use_norm=True) for word in used_words).astype(REAL)\n"
     ]
    },
    {
     "data": {
      "text/plain": [
       "'breakfast'"
      ]
     },
     "execution_count": 24,
     "metadata": {},
     "output_type": "execute_result"
    }
   ],
   "source": [
    "# find word in list that is farthest from the mean\n",
    "model.wv.doesnt_match(\"breakfast cereal dinner lunch\".split())"
   ]
  },
  {
   "cell_type": "code",
   "execution_count": 1,
   "metadata": {},
   "outputs": [
    {
     "ename": "NameError",
     "evalue": "name 'model' is not defined",
     "output_type": "error",
     "traceback": [
      "\u001b[0;31m---------------------------------------------------------------------------\u001b[0m",
      "\u001b[0;31mNameError\u001b[0m                                 Traceback (most recent call last)",
      "\u001b[0;32m<ipython-input-1-35140004c595>\u001b[0m in \u001b[0;36m<module>\u001b[0;34m\u001b[0m\n\u001b[0;32m----> 1\u001b[0;31m \u001b[0mmodel\u001b[0m\u001b[0;34m.\u001b[0m\u001b[0mwv\u001b[0m\u001b[0;34m.\u001b[0m\u001b[0mdoesnt_match\u001b[0m\u001b[0;34m(\u001b[0m\u001b[0;34m\"cook janitor pilot sport teacher\"\u001b[0m\u001b[0;34m.\u001b[0m\u001b[0msplit\u001b[0m\u001b[0;34m(\u001b[0m\u001b[0;34m)\u001b[0m\u001b[0;34m)\u001b[0m\u001b[0;34m\u001b[0m\u001b[0;34m\u001b[0m\u001b[0m\n\u001b[0m",
      "\u001b[0;31mNameError\u001b[0m: name 'model' is not defined"
     ]
    }
   ],
   "source": [
    "model.wv.doesnt_match(\"cook janitor pilot sport teacher\".split())"
   ]
  },
  {
   "cell_type": "code",
   "execution_count": 26,
   "metadata": {},
   "outputs": [
    {
     "data": {
      "text/plain": [
       "'love'"
      ]
     },
     "execution_count": 26,
     "metadata": {},
     "output_type": "execute_result"
    }
   ],
   "source": [
    "model.wv.doesnt_match(\"kill dead knife love\".split())"
   ]
  },
  {
   "cell_type": "code",
   "execution_count": 27,
   "metadata": {},
   "outputs": [
    {
     "data": {
      "text/plain": [
       "'tree'"
      ]
     },
     "execution_count": 27,
     "metadata": {},
     "output_type": "execute_result"
    }
   ],
   "source": [
    "model.wv.doesnt_match(\"insect animal cat tree\".split())"
   ]
  },
  {
   "cell_type": "code",
   "execution_count": 28,
   "metadata": {},
   "outputs": [
    {
     "data": {
      "text/plain": [
       "'dog'"
      ]
     },
     "execution_count": 28,
     "metadata": {},
     "output_type": "execute_result"
    }
   ],
   "source": [
    "model.wv.doesnt_match(\"dog cat parrot lion\".split())"
   ]
  },
  {
   "cell_type": "markdown",
   "metadata": {},
   "source": [
    "## Similarity\n",
    "<a id=\"similarity\"></a>"
   ]
  },
  {
   "cell_type": "markdown",
   "metadata": {},
   "source": [
    "### Cosine similarity"
   ]
  },
  {
   "cell_type": "code",
   "execution_count": 29,
   "metadata": {},
   "outputs": [],
   "source": [
    "model.wv.similarity?"
   ]
  },
  {
   "cell_type": "code",
   "execution_count": 30,
   "metadata": {},
   "outputs": [
    {
     "data": {
      "text/plain": [
       "-0.04043906"
      ]
     },
     "execution_count": 30,
     "metadata": {},
     "output_type": "execute_result"
    }
   ],
   "source": [
    "model.wv.similarity('angry', 'happy')"
   ]
  },
  {
   "cell_type": "code",
   "execution_count": 31,
   "metadata": {},
   "outputs": [
    {
     "data": {
      "text/plain": [
       "0.013431083"
      ]
     },
     "execution_count": 31,
     "metadata": {},
     "output_type": "execute_result"
    }
   ],
   "source": [
    "model.wv.similarity('woman', 'tree')"
   ]
  },
  {
   "cell_type": "code",
   "execution_count": 32,
   "metadata": {},
   "outputs": [
    {
     "data": {
      "text/plain": [
       "0.13484123"
      ]
     },
     "execution_count": 32,
     "metadata": {},
     "output_type": "execute_result"
    }
   ],
   "source": [
    "model.wv.similarity('tree', 'shrub')"
   ]
  },
  {
   "cell_type": "code",
   "execution_count": 33,
   "metadata": {},
   "outputs": [
    {
     "data": {
      "text/plain": [
       "-0.021015963"
      ]
     },
     "execution_count": 33,
     "metadata": {},
     "output_type": "execute_result"
    }
   ],
   "source": [
    "model.wv.similarity('tree', 'bush')"
   ]
  },
  {
   "cell_type": "code",
   "execution_count": 34,
   "metadata": {},
   "outputs": [
    {
     "data": {
      "text/plain": [
       "0.9865689165890217"
      ]
     },
     "execution_count": 34,
     "metadata": {},
     "output_type": "execute_result"
    }
   ],
   "source": [
    "# distance is just the opposite of similarity\n",
    "model.wv.distance('woman', 'tree')"
   ]
  },
  {
   "cell_type": "code",
   "execution_count": 35,
   "metadata": {},
   "outputs": [
    {
     "data": {
      "text/plain": [
       "1.0"
      ]
     },
     "execution_count": 35,
     "metadata": {},
     "output_type": "execute_result"
    }
   ],
   "source": [
    "model.wv.distance('woman', 'man') + model.wv.similarity('woman', 'man')"
   ]
  },
  {
   "cell_type": "code",
   "execution_count": 36,
   "metadata": {},
   "outputs": [
    {
     "data": {
      "text/plain": [
       "[('spread', 0.35272103548049927), ('funeral', 0.31335967779159546), ('Lysander', 0.31107717752456665), ('un', 0.2948065400123596), ('mads', 0.29344886541366577), ('chat', 0.28563278913497925), ('Begin', 0.2839564085006714), ('corpse', 0.2800891399383545), (\"reason's\", 0.27878642082214355), ('trice', 0.27630355954170227)]"
      ]
     },
     "execution_count": 36,
     "metadata": {},
     "output_type": "execute_result"
    }
   ],
   "source": [
    "# closest by cosine similarity\n",
    "model.wv.similar_by_word('woman', topn=10)"
   ]
  },
  {
   "cell_type": "code",
   "execution_count": 37,
   "metadata": {},
   "outputs": [
    {
     "data": {
      "text/plain": [
       "[('precedent', 0.3183187246322632), ('Southam', 0.3044399619102478), ('menace', 0.29369544982910156), ('Lestrale', 0.2888152003288269), ('fist', 0.2856958508491516), ('hale', 0.28095510601997375), ('musical', 0.2804621458053589), ('dern', 0.27870047092437744), ('disgraced', 0.27278465032577515), ('disprove', 0.26655182242393494)]"
      ]
     },
     "execution_count": 37,
     "metadata": {},
     "output_type": "execute_result"
    }
   ],
   "source": [
    "# closest by cosine similarity\n",
    "model.wv.similar_by_word('she', topn=10)"
   ]
  },
  {
   "cell_type": "code",
   "execution_count": 38,
   "metadata": {},
   "outputs": [],
   "source": [
    "model.wv.most_similar?"
   ]
  },
  {
   "cell_type": "code",
   "execution_count": 39,
   "metadata": {},
   "outputs": [
    {
     "data": {
      "text/plain": [
       "[('spread', 0.35272103548049927), ('funeral', 0.31335967779159546), ('Lysander', 0.31107717752456665), ('un', 0.2948065400123596), ('mads', 0.29344886541366577), ('chat', 0.28563278913497925), ('Begin', 0.2839564085006714), ('corpse', 0.2800891399383545), (\"reason's\", 0.27878642082214355), ('trice', 0.27630355954170227)]"
      ]
     },
     "execution_count": 39,
     "metadata": {},
     "output_type": "execute_result"
    }
   ],
   "source": [
    "model.wv.most_similar(positive=['woman'], topn=10)"
   ]
  },
  {
   "cell_type": "code",
   "execution_count": 40,
   "metadata": {},
   "outputs": [
    {
     "data": {
      "text/plain": [
       "[('torches', 0.3494153916835785), ('thighs', 0.29718780517578125), ('peal', 0.29053595662117004), ('regal', 0.28637075424194336), (\"husband's\", 0.27862781286239624), ('Excitements', 0.2690203785896301), ('Bouciqualt', 0.26698148250579834), ('runagate', 0.26553893089294434), (\"disgrac'd\", 0.26328760385513306), ('Instruct', 0.26045405864715576)]"
      ]
     },
     "execution_count": 40,
     "metadata": {},
     "output_type": "execute_result"
    }
   ],
   "source": [
    "model.wv.most_similar(negative=['woman'], topn=10)"
   ]
  },
  {
   "cell_type": "code",
   "execution_count": 41,
   "metadata": {},
   "outputs": [
    {
     "data": {
      "text/plain": [
       "[('cowards', 0.34229138493537903), ('downfall', 0.319137841463089), ('trice', 0.3064131438732147), ('losers', 0.2898869514465332), (\"o'erpast\", 0.28871944546699524), ('platform', 0.28868529200553894), ('hide', 0.2798108458518982), ('worthier', 0.2693411707878113), ('Nought', 0.2640897035598755), ('snail', 0.2635517418384552)]"
      ]
     },
     "execution_count": 41,
     "metadata": {},
     "output_type": "execute_result"
    }
   ],
   "source": [
    "model.wv.most_similar(positive=['woman', 'king'], topn=10)"
   ]
  },
  {
   "cell_type": "code",
   "execution_count": 42,
   "metadata": {},
   "outputs": [
    {
     "data": {
      "text/plain": [
       "[('platform', 0.32144904136657715), ('nimbly', 0.31101977825164795), ('downfall', 0.2975620925426483), ('trice', 0.2919257879257202), (\"o'erpast\", 0.28407901525497437), ('worthier', 0.2759639024734497), ('hide', 0.26736924052238464), ('Fluellen', 0.2651178240776062), ('cripple', 0.26006942987442017), ('sharply', 0.25976935029029846)]"
      ]
     },
     "execution_count": 42,
     "metadata": {},
     "output_type": "execute_result"
    }
   ],
   "source": [
    "model.wv.most_similar(positive=['woman', 'king'], negative=['man'], topn=10)"
   ]
  },
  {
   "cell_type": "markdown",
   "metadata": {},
   "source": [
    "### Multiplicative combination"
   ]
  },
  {
   "cell_type": "code",
   "execution_count": 43,
   "metadata": {},
   "outputs": [],
   "source": [
    "model.wv.most_similar_cosmul?"
   ]
  },
  {
   "cell_type": "code",
   "execution_count": 44,
   "metadata": {},
   "outputs": [
    {
     "data": {
      "text/plain": [
       "[('nimbly', 0.9265996813774109), ('platform', 0.888831615447998), ('downfall', 0.8324941992759705), (\"despis'd\", 0.8318725228309631), ('trice', 0.8252105712890625), (\"o'erpast\", 0.8192151784896851), ('appeal', 0.8181260228157043), ('acres', 0.817109227180481), ('worthier', 0.8125076293945312), ('flax', 0.8101872801780701)]"
      ]
     },
     "execution_count": 44,
     "metadata": {},
     "output_type": "execute_result"
    }
   ],
   "source": [
    "model.wv.most_similar_cosmul(positive=['woman', 'king'], negative=['man'], topn=10)"
   ]
  },
  {
   "cell_type": "code",
   "execution_count": 45,
   "metadata": {},
   "outputs": [
    {
     "data": {
      "text/plain": [
       "[('platform', 0.32144904136657715), ('nimbly', 0.31101977825164795), ('downfall', 0.2975620925426483), ('trice', 0.2919257879257202), (\"o'erpast\", 0.28407901525497437), ('worthier', 0.2759639024734497), ('hide', 0.26736924052238464), ('Fluellen', 0.2651178240776062), ('cripple', 0.26006942987442017), ('sharply', 0.25976935029029846)]"
      ]
     },
     "execution_count": 45,
     "metadata": {},
     "output_type": "execute_result"
    }
   ],
   "source": [
    "model.wv.most_similar(positive=['woman', 'king'], negative=['man'], topn=10)"
   ]
  },
  {
   "cell_type": "code",
   "execution_count": 46,
   "metadata": {},
   "outputs": [
    {
     "data": {
      "text/plain": [
       "[('cowards', 0.3847014605998993), ('downfall', 0.37490156292915344), ('trice', 0.36851873993873596), ('losers', 0.36229458451271057), ('platform', 0.3616563081741333), (\"o'erpast\", 0.3615654706954956), ('hide', 0.35795024037361145), ('worthier', 0.35360199213027954), ('Nought', 0.3511848449707031), ('offender', 0.350872665643692)]"
      ]
     },
     "execution_count": 46,
     "metadata": {},
     "output_type": "execute_result"
    }
   ],
   "source": [
    "model.wv.most_similar_cosmul(positive=['woman', 'king'], topn=10)"
   ]
  },
  {
   "cell_type": "code",
   "execution_count": 47,
   "metadata": {},
   "outputs": [
    {
     "data": {
      "text/plain": [
       "[('cowards', 0.34229138493537903), ('downfall', 0.319137841463089), ('trice', 0.3064131438732147), ('losers', 0.2898869514465332), (\"o'erpast\", 0.28871944546699524), ('platform', 0.28868529200553894), ('hide', 0.2798108458518982), ('worthier', 0.2693411707878113), ('Nought', 0.2640897035598755), ('snail', 0.2635517418384552)]"
      ]
     },
     "execution_count": 47,
     "metadata": {},
     "output_type": "execute_result"
    }
   ],
   "source": [
    "model.wv.most_similar(positive=['woman', 'king'], topn=10)"
   ]
  }
 ],
 "metadata": {
  "kernelspec": {
   "display_name": "Python 3",
   "language": "python",
   "name": "python3"
  },
  "language_info": {
   "codemirror_mode": {
    "name": "ipython",
    "version": 3
   },
   "file_extension": ".py",
   "mimetype": "text/x-python",
   "name": "python",
   "nbconvert_exporter": "python",
   "pygments_lexer": "ipython3",
   "version": "3.7.4"
  }
 },
 "nbformat": 4,
 "nbformat_minor": 2
}
