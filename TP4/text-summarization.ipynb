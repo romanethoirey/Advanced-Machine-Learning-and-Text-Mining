{
 "cells": [
  {
   "cell_type": "code",
   "execution_count": 1,
   "metadata": {},
   "outputs": [],
   "source": [
    "from gensim.summarization import summarize"
   ]
  },
  {
   "cell_type": "code",
   "execution_count": 2,
   "metadata": {},
   "outputs": [],
   "source": [
    "text =  \"As the number of confirmed coronavirus cases in France rose to 2,876, \"+\\\n",
    "        \"further restrictions were brought in in an attempt to contain the spread \"+\\\n",
    "        \"- including stopping all visits to retirement homes and long term care facilities \"+\\\n",
    "        \"and closing schools in the southern city of Montpellier and on the island of Corsica.\"+\\\n",
    "        \"On Wednesday, France saw the largest daily jump since the outbreak began in the middle \"+\\\n",
    "        \"of February, with 500 new coronavirus cases. On Thursday, the popular tourist park Disneyland \"+\\\n",
    "        \"Paris announced that it had canceled all outdoor parades until mid-April, after three of \"+\\\n",
    "        \"its staff tested positive for the coronavirus this week. Although the park would remain open \"+\\\n",
    "        \"to visitors it has issued 'temporary adjustments' to its cancellation policy for anyone wishing \"+\\\n",
    "        \"to cancel reservation at the Disney Hotel through April 15th.France is also included in the list \"+\\\n",
    "        \"of Schengen zone countries which the USA has banned flights from. Many aspects of the ban, \"+\\\n",
    "        \"announced by US president Donald Trump on Wednesday night, are still unclear but it seems that \"+\\\n",
    "        \"American citizens are not covered, nor are flights via the UK.\""
   ]
  },
  {
   "cell_type": "code",
   "execution_count": 3,
   "metadata": {},
   "outputs": [
    {
     "name": "stdout",
     "output_type": "stream",
     "text": [
      "\n"
     ]
    }
   ],
   "source": [
    "print(summarize(text))"
   ]
  },
  {
   "cell_type": "code",
   "execution_count": 4,
   "metadata": {},
   "outputs": [
    {
     "name": "stdout",
     "output_type": "stream",
     "text": [
      "[]\n"
     ]
    }
   ],
   "source": [
    "print(summarize(text, split=True))"
   ]
  },
  {
   "cell_type": "code",
   "execution_count": 5,
   "metadata": {},
   "outputs": [
    {
     "name": "stdout",
     "output_type": "stream",
     "text": [
      "As the number of confirmed coronavirus cases in France rose to 2,876, further restrictions were brought in in an attempt to contain the spread - including stopping all visits to retirement homes and long term care facilities and closing schools in the southern city of Montpellier and on the island of Corsica.On Wednesday, France saw the largest daily jump since the outbreak began in the middle of February, with 500 new coronavirus cases.\n",
      "On Thursday, the popular tourist park Disneyland Paris announced that it had canceled all outdoor parades until mid-April, after three of its staff tested positive for the coronavirus this week.\n"
     ]
    }
   ],
   "source": [
    "print(summarize(text, ratio=0.5))"
   ]
  },
  {
   "cell_type": "code",
   "execution_count": 6,
   "metadata": {},
   "outputs": [
    {
     "name": "stdout",
     "output_type": "stream",
     "text": [
      "Many aspects of the ban, announced by US president Donald Trump on Wednesday night, are still unclear but it seems that American citizens are not covered, nor are flights via the UK.\n"
     ]
    }
   ],
   "source": [
    "print(summarize(text, word_count=50))"
   ]
  },
  {
   "cell_type": "code",
   "execution_count": null,
   "metadata": {},
   "outputs": [],
   "source": []
  },
  {
   "cell_type": "code",
   "execution_count": 7,
   "metadata": {},
   "outputs": [
    {
     "name": "stdout",
     "output_type": "stream",
     "text": [
      "coronavirus\n",
      "france\n",
      "including\n",
      "included\n",
      "daily\n",
      "tested\n",
      "temporary\n",
      "zone\n",
      "canceled\n",
      "cancellation\n",
      "cancel\n",
      "donald\n",
      "term care\n",
      "wednesday\n"
     ]
    }
   ],
   "source": [
    "from gensim.summarization import keywords\n",
    "\n",
    "print(keywords(text))"
   ]
  },
  {
   "cell_type": "code",
   "execution_count": null,
   "metadata": {},
   "outputs": [],
   "source": []
  }
 ],
 "metadata": {
  "kernelspec": {
   "display_name": "Python 3",
   "language": "python",
   "name": "python3"
  },
  "language_info": {
   "codemirror_mode": {
    "name": "ipython",
    "version": 3
   },
   "file_extension": ".py",
   "mimetype": "text/x-python",
   "name": "python",
   "nbconvert_exporter": "python",
   "pygments_lexer": "ipython3",
   "version": "3.7.4"
  }
 },
 "nbformat": 4,
 "nbformat_minor": 4
}
