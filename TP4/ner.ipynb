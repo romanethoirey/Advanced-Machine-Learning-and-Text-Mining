{
 "cells": [
  {
   "cell_type": "markdown",
   "metadata": {},
   "source": [
    "## NER with NLTK"
   ]
  },
  {
   "cell_type": "code",
   "execution_count": 1,
   "metadata": {},
   "outputs": [],
   "source": [
    "import nltk\n",
    "from nltk.tokenize import word_tokenize\n",
    "from nltk.tag import pos_tag"
   ]
  },
  {
   "cell_type": "code",
   "execution_count": 2,
   "metadata": {},
   "outputs": [],
   "source": [
    "sentence = '''European authorities fined Google a record $5.1 billion on Wednesday for abusing its power in the mobile phone market and ordered the company to alter its practices'''"
   ]
  },
  {
   "cell_type": "code",
   "execution_count": 3,
   "metadata": {},
   "outputs": [],
   "source": [
    "# tokenize with pos\n",
    "sentence_pos = nltk.pos_tag(nltk.word_tokenize(sentence))"
   ]
  },
  {
   "cell_type": "code",
   "execution_count": 4,
   "metadata": {},
   "outputs": [
    {
     "data": {
      "text/plain": [
       "[('European', 'JJ'),\n",
       " ('authorities', 'NNS'),\n",
       " ('fined', 'VBD'),\n",
       " ('Google', 'NNP'),\n",
       " ('a', 'DT'),\n",
       " ('record', 'NN'),\n",
       " ('$', '$'),\n",
       " ('5.1', 'CD'),\n",
       " ('billion', 'CD'),\n",
       " ('on', 'IN'),\n",
       " ('Wednesday', 'NNP'),\n",
       " ('for', 'IN'),\n",
       " ('abusing', 'VBG'),\n",
       " ('its', 'PRP$'),\n",
       " ('power', 'NN'),\n",
       " ('in', 'IN'),\n",
       " ('the', 'DT'),\n",
       " ('mobile', 'JJ'),\n",
       " ('phone', 'NN'),\n",
       " ('market', 'NN'),\n",
       " ('and', 'CC'),\n",
       " ('ordered', 'VBD'),\n",
       " ('the', 'DT'),\n",
       " ('company', 'NN'),\n",
       " ('to', 'TO'),\n",
       " ('alter', 'VB'),\n",
       " ('its', 'PRP$'),\n",
       " ('practices', 'NNS')]"
      ]
     },
     "execution_count": 4,
     "metadata": {},
     "output_type": "execute_result"
    }
   ],
   "source": [
    "sentence_pos"
   ]
  },
  {
   "cell_type": "code",
   "execution_count": 5,
   "metadata": {},
   "outputs": [],
   "source": [
    "from nltk import ne_chunk\n",
    "\n",
    "# nltk.download('words')\n",
    "# nltk.download('maxent_ne_chunker')\n",
    " \n",
    "ner = ne_chunk(sentence_pos)"
   ]
  },
  {
   "cell_type": "code",
   "execution_count": 6,
   "metadata": {},
   "outputs": [
    {
     "name": "stdout",
     "output_type": "stream",
     "text": [
      "Tree('S', [Tree('GPE', [('European', 'JJ')]), ('authorities', 'NNS'), ('fined', 'VBD'), Tree('PERSON', [('Google', 'NNP')]), ('a', 'DT'), ('record', 'NN'), ('$', '$'), ('5.1', 'CD'), ('billion', 'CD'), ('on', 'IN'), ('Wednesday', 'NNP'), ('for', 'IN'), ('abusing', 'VBG'), ('its', 'PRP$'), ('power', 'NN'), ('in', 'IN'), ('the', 'DT'), ('mobile', 'JJ'), ('phone', 'NN'), ('market', 'NN'), ('and', 'CC'), ('ordered', 'VBD'), ('the', 'DT'), ('company', 'NN'), ('to', 'TO'), ('alter', 'VB'), ('its', 'PRP$'), ('practices', 'NNS')])\n"
     ]
    }
   ],
   "source": [
    "print(ner.__repr__())"
   ]
  },
  {
   "cell_type": "code",
   "execution_count": 7,
   "metadata": {},
   "outputs": [],
   "source": [
    "# import os\n",
    "\n",
    "# path_to_gs = \";C:\\Program Files\\gs\\gs9.51\\bin;\"\n",
    "# path_to_gs_32 = \";C:\\Program Files (x86)\\gs\\gs9.51\\bin;\"\n",
    "# os.environ['PATH'] += os.pathsep + path_to_gs + path_to_gs_32\n",
    "# ner2 = ne_chunk(sentence_pos)\n",
    "# ner2"
   ]
  },
  {
   "cell_type": "markdown",
   "metadata": {},
   "source": [
    "## NER with SpaCy"
   ]
  },
  {
   "cell_type": "code",
   "execution_count": 8,
   "metadata": {},
   "outputs": [],
   "source": [
    "import spacy\n",
    "from spacy import displacy\n",
    "from collections import Counter\n",
    "import en_core_web_sm\n",
    "nlp = en_core_web_sm.load()"
   ]
  },
  {
   "cell_type": "code",
   "execution_count": 9,
   "metadata": {},
   "outputs": [
    {
     "name": "stdout",
     "output_type": "stream",
     "text": [
      "[('European', 'NORP'),\n",
      " ('Google', 'ORG'),\n",
      " ('$5.1 billion', 'MONEY'),\n",
      " ('Wednesday', 'DATE')]\n"
     ]
    }
   ],
   "source": [
    "from pprint import pprint\n",
    "doc = nlp(sentence)\n",
    "pprint([(X.text, X.label_) for X in doc.ents])"
   ]
  },
  {
   "cell_type": "code",
   "execution_count": 10,
   "metadata": {},
   "outputs": [
    {
     "name": "stdout",
     "output_type": "stream",
     "text": [
      "[(European, 'B', 'NORP'),\n",
      " (authorities, 'O', ''),\n",
      " (fined, 'O', ''),\n",
      " (Google, 'B', 'ORG'),\n",
      " (a, 'O', ''),\n",
      " (record, 'O', ''),\n",
      " ($, 'B', 'MONEY'),\n",
      " (5.1, 'I', 'MONEY'),\n",
      " (billion, 'I', 'MONEY'),\n",
      " (on, 'O', ''),\n",
      " (Wednesday, 'B', 'DATE'),\n",
      " (for, 'O', ''),\n",
      " (abusing, 'O', ''),\n",
      " (its, 'O', ''),\n",
      " (power, 'O', ''),\n",
      " (in, 'O', ''),\n",
      " (the, 'O', ''),\n",
      " (mobile, 'O', ''),\n",
      " (phone, 'O', ''),\n",
      " (market, 'O', ''),\n",
      " (and, 'O', ''),\n",
      " (ordered, 'O', ''),\n",
      " (the, 'O', ''),\n",
      " (company, 'O', ''),\n",
      " (to, 'O', ''),\n",
      " (alter, 'O', ''),\n",
      " (its, 'O', ''),\n",
      " (practices, 'O', '')]\n"
     ]
    }
   ],
   "source": [
    "''' \"B\" means the token begins an entity,\n",
    "    \"I\" means it is inside an entity,\n",
    "    \"O\" means it is outside an entity,\n",
    "    and \"\" means no entity tag is set.'''\n",
    "\n",
    "pprint([(X, X.ent_iob_, X.ent_type_) for X in doc])"
   ]
  },
  {
   "cell_type": "code",
   "execution_count": 11,
   "metadata": {},
   "outputs": [],
   "source": [
    "# task\n",
    "# Scrape Data from a news article (BBC news, thelocal.fr, or even wikipedia)\n",
    "# fetch the entities being discussed\n",
    "# Hint: use \"requests\" to fetch data from a URL\n",
    "# Install and use bs4.BeautifulSoup to scrape html\n",
    "\n",
    "from bs4 import BeautifulSoup"
   ]
  },
  {
   "cell_type": "code",
   "execution_count": 25,
   "metadata": {},
   "outputs": [],
   "source": [
    "import urllib.request\n",
    "with urllib.request.urlopen('http://thelocal.fr/') as response:\n",
    "    html = response.read()"
   ]
  },
  {
   "cell_type": "code",
   "execution_count": 26,
   "metadata": {},
   "outputs": [],
   "source": [
    "soup = BeautifulSoup(html, 'html.parser')"
   ]
  },
  {
   "cell_type": "code",
   "execution_count": 27,
   "metadata": {},
   "outputs": [
    {
     "name": "stdout",
     "output_type": "stream",
     "text": [
      "<html>\n",
      " <body>\n",
      "  <div style=\"position:absolute;top:100px;text-align:center;margin-left:auto;margin-right:auto;left:0;right:0;width:500px;font-family:Roboto,sans-serif;\">\n",
      "   <img alt=\"Project Shield Logo\" height=\"50px\" src=\"https://storage.googleapis.com/ddos-shield.appspot.com/shield-logo-mono-darktext.svg\" width=\"250px\"/>\n",
      "   <p style=\"font-size:18px;\">\n",
      "    You will be connected to\n",
      "    <b>\n",
      "     thelocal.fr\n",
      "    </b>\n",
      "    in just a moment...\n",
      "   </p>\n",
      "   <p>\n",
      "    <a href=\"https://g.co/shield\">\n",
      "     Learn about Project Shield\n",
      "    </a>\n",
      "   </p>\n",
      "  </div>\n",
      "  <script src=\"https://storage.googleapis.com/ddos-shield.appspot.com/aes.js\" type=\"text/javascript\">\n",
      "  </script>\n",
      "  <script>\n",
      "   function toNumbers(d){var e=[];d.replace(/(..)/g,function(d){e.push(parseInt(d,16))});return e;}function toHex(){for(var d=[],d=1==arguments.length&&arguments[0].constructor==Array?arguments[0]:arguments,e=\"\",f=0;f<d.length;f++)e+=(16>d[f]?\"0\":\"\")+d[f].toString(16);return e.toLowerCase()}var a=toNumbers(\"aa5a872fb72170d33276857db27ea0d7\"),b=toNumbers(\"612febbe4bc3f33fa619d5a6c5a5fda8\"),c=toNumbers(\"bda7581f131981ec65503d0bce7102fc\");document.cookie=\"STC=\"+toHex(slowAES.decrypt(c,2,a,b))+\"; expires=Thu, 31-Dec-37 23:55:55 GMT; domain=.thelocal.fr; path=/\";location.href=\"http://thelocal.fr/?sckattempt=1\".replace(new RegExp(\"sckattempt=[0-9]\\&\"), \"\").replace(new RegExp(\"[?&]sckattempt=[0-9]\"), \"\");\n",
      "  </script>\n",
      " </body>\n",
      "</html>\n"
     ]
    }
   ],
   "source": [
    "print(soup.prettify())"
   ]
  },
  {
   "cell_type": "code",
   "execution_count": 28,
   "metadata": {},
   "outputs": [],
   "source": [
    "soup.title"
   ]
  },
  {
   "cell_type": "code",
   "execution_count": 29,
   "metadata": {},
   "outputs": [
    {
     "name": "stdout",
     "output_type": "stream",
     "text": [
      "https://g.co/shield\n"
     ]
    }
   ],
   "source": [
    "for link in soup.find_all('a'):\n",
    "    print(link.get('href'))"
   ]
  },
  {
   "cell_type": "code",
   "execution_count": 30,
   "metadata": {},
   "outputs": [
    {
     "name": "stdout",
     "output_type": "stream",
     "text": [
      "You will be connected to thelocal.fr in just a moment...Learn about Project Shieldfunction toNumbers(d){var e=[];d.replace(/(..)/g,function(d){e.push(parseInt(d,16))});return e;}function toHex(){for(var d=[],d=1==arguments.length&&arguments[0].constructor==Array?arguments[0]:arguments,e=\"\",f=0;f<d.length;f++)e+=(16>d[f]?\"0\":\"\")+d[f].toString(16);return e.toLowerCase()}var a=toNumbers(\"aa5a872fb72170d33276857db27ea0d7\"),b=toNumbers(\"612febbe4bc3f33fa619d5a6c5a5fda8\"),c=toNumbers(\"bda7581f131981ec65503d0bce7102fc\");document.cookie=\"STC=\"+toHex(slowAES.decrypt(c,2,a,b))+\"; expires=Thu, 31-Dec-37 23:55:55 GMT; domain=.thelocal.fr; path=/\";location.href=\"http://thelocal.fr/?sckattempt=1\".replace(new RegExp(\"sckattempt=[0-9]\\&\"), \"\").replace(new RegExp(\"[?&]sckattempt=[0-9]\"), \"\");\n"
     ]
    }
   ],
   "source": [
    "print(soup.get_text())"
   ]
  },
  {
   "cell_type": "code",
   "execution_count": 31,
   "metadata": {},
   "outputs": [],
   "source": [
    "text_soup = soup.get_text()"
   ]
  },
  {
   "cell_type": "code",
   "execution_count": 32,
   "metadata": {},
   "outputs": [],
   "source": [
    "text_soup_pos = nltk.pos_tag(nltk.word_tokenize(text_soup))"
   ]
  },
  {
   "cell_type": "code",
   "execution_count": 33,
   "metadata": {},
   "outputs": [
    {
     "data": {
      "text/plain": [
       "[('You', 'PRP'),\n",
       " ('will', 'MD'),\n",
       " ('be', 'VB'),\n",
       " ('connected', 'VBN'),\n",
       " ('to', 'TO'),\n",
       " ('thelocal.fr', 'VB'),\n",
       " ('in', 'IN'),\n",
       " ('just', 'RB'),\n",
       " ('a', 'DT'),\n",
       " ('moment', 'NN'),\n",
       " ('...', ':'),\n",
       " ('Learn', 'NNP'),\n",
       " ('about', 'IN'),\n",
       " ('Project', 'NNP'),\n",
       " ('Shieldfunction', 'NNP'),\n",
       " ('toNumbers', 'NNS'),\n",
       " ('(', '('),\n",
       " ('d', 'NN'),\n",
       " (')', ')'),\n",
       " ('{', '('),\n",
       " ('var', 'JJ'),\n",
       " ('e=', 'NN'),\n",
       " ('[', 'NNP'),\n",
       " (']', 'NNP'),\n",
       " (';', ':'),\n",
       " ('d.replace', 'NN'),\n",
       " ('(', '('),\n",
       " ('/', 'NNP'),\n",
       " ('(', '('),\n",
       " ('..', 'NNP'),\n",
       " (')', ')'),\n",
       " ('/g', 'NN'),\n",
       " (',', ','),\n",
       " ('function', 'NN'),\n",
       " ('(', '('),\n",
       " ('d', 'NN'),\n",
       " (')', ')'),\n",
       " ('{', '('),\n",
       " ('e.push', 'NN'),\n",
       " ('(', '('),\n",
       " ('parseInt', 'NN'),\n",
       " ('(', '('),\n",
       " ('d,16', 'NN'),\n",
       " (')', ')'),\n",
       " (')', ')'),\n",
       " ('}', ')'),\n",
       " (')', ')'),\n",
       " (';', ':'),\n",
       " ('return', 'VB'),\n",
       " ('e', 'NN'),\n",
       " (';', ':'),\n",
       " ('}', ')'),\n",
       " ('function', 'NN'),\n",
       " ('toHex', 'NNS'),\n",
       " ('(', '('),\n",
       " (')', ')'),\n",
       " ('{', '('),\n",
       " ('for', 'IN'),\n",
       " ('(', '('),\n",
       " ('var', 'JJ'),\n",
       " ('d=', 'NN'),\n",
       " ('[', 'NNP'),\n",
       " (']', 'NNP'),\n",
       " (',', ','),\n",
       " ('d=1==arguments.length', 'NNP'),\n",
       " ('&', 'CC'),\n",
       " ('&', 'CC'),\n",
       " ('arguments', 'NNS'),\n",
       " ('[', 'VBP'),\n",
       " ('0', 'CD'),\n",
       " (']', 'JJ'),\n",
       " ('.constructor==Array', 'NN'),\n",
       " ('?', '.'),\n",
       " ('arguments', 'NNS'),\n",
       " ('[', 'VBP'),\n",
       " ('0', 'CD'),\n",
       " (']', 'NNS'),\n",
       " (':', ':'),\n",
       " ('arguments', 'NNS'),\n",
       " (',', ','),\n",
       " ('e=', 'NN'),\n",
       " (\"''\", \"''\"),\n",
       " (\"''\", \"''\"),\n",
       " (',', ','),\n",
       " ('f=0', 'VBP'),\n",
       " (';', ':'),\n",
       " ('f', 'JJ'),\n",
       " ('<', 'NNP'),\n",
       " ('d.length', 'NN'),\n",
       " (';', ':'),\n",
       " ('f++', 'NN'),\n",
       " (')', ')'),\n",
       " ('e+=', 'NN'),\n",
       " ('(', '('),\n",
       " ('16', 'CD'),\n",
       " ('>', 'NNP'),\n",
       " ('d', 'NN'),\n",
       " ('[', 'NNP'),\n",
       " ('f', 'NN'),\n",
       " (']', 'NNP'),\n",
       " ('?', '.'),\n",
       " ('``', '``'),\n",
       " ('0', 'CD'),\n",
       " (\"''\", \"''\"),\n",
       " (':', ':'),\n",
       " (\"''\", \"''\"),\n",
       " (\"''\", \"''\"),\n",
       " (')', ')'),\n",
       " ('+d', 'FW'),\n",
       " ('[', 'FW'),\n",
       " ('f', 'FW'),\n",
       " (']', 'FW'),\n",
       " ('.toString', 'VBG'),\n",
       " ('(', '('),\n",
       " ('16', 'CD'),\n",
       " (')', ')'),\n",
       " (';', ':'),\n",
       " ('return', 'VB'),\n",
       " ('e.toLowerCase', 'FW'),\n",
       " ('(', '('),\n",
       " (')', ')'),\n",
       " ('}', ')'),\n",
       " ('var', 'FW'),\n",
       " ('a=toNumbers', 'NNS'),\n",
       " ('(', '('),\n",
       " ('``', '``'),\n",
       " ('aa5a872fb72170d33276857db27ea0d7', 'RB'),\n",
       " (\"''\", \"''\"),\n",
       " (')', ')'),\n",
       " (',', ','),\n",
       " ('b=toNumbers', 'NNS'),\n",
       " ('(', '('),\n",
       " ('``', '``'),\n",
       " ('612febbe4bc3f33fa619d5a6c5a5fda8', 'CD'),\n",
       " (\"''\", \"''\"),\n",
       " (')', ')'),\n",
       " (',', ','),\n",
       " ('c=toNumbers', 'NNS'),\n",
       " ('(', '('),\n",
       " ('``', '``'),\n",
       " ('bda7581f131981ec65503d0bce7102fc', 'NN'),\n",
       " (\"''\", \"''\"),\n",
       " (')', ')'),\n",
       " (';', ':'),\n",
       " ('document.cookie=', 'NN'),\n",
       " (\"''\", \"''\"),\n",
       " ('STC=', 'NNP'),\n",
       " (\"''\", \"''\"),\n",
       " ('+toHex', 'NN'),\n",
       " ('(', '('),\n",
       " ('slowAES.decrypt', 'NN'),\n",
       " ('(', '('),\n",
       " ('c,2', 'NN'),\n",
       " (',', ','),\n",
       " ('a', 'DT'),\n",
       " (',', ','),\n",
       " ('b', 'NN'),\n",
       " (')', ')'),\n",
       " (')', ')'),\n",
       " ('+', 'NN'),\n",
       " (\"''\", \"''\"),\n",
       " (';', ':'),\n",
       " ('expires=Thu', 'VB'),\n",
       " (',', ','),\n",
       " ('31-Dec-37', 'JJ'),\n",
       " ('23:55:55', 'CD'),\n",
       " ('GMT', 'NNP'),\n",
       " (';', ':'),\n",
       " ('domain=.thelocal.fr', 'NN'),\n",
       " (';', ':'),\n",
       " ('path=/', 'NN'),\n",
       " (\"''\", \"''\"),\n",
       " (';', ':'),\n",
       " ('location.href=', 'CC'),\n",
       " (\"''\", \"''\"),\n",
       " ('http', 'NN'),\n",
       " (':', ':'),\n",
       " ('//thelocal.fr/', 'NN'),\n",
       " ('?', '.'),\n",
       " ('sckattempt=1', 'NN'),\n",
       " (\"''\", \"''\"),\n",
       " ('.replace', 'NN'),\n",
       " ('(', '('),\n",
       " ('new', 'JJ'),\n",
       " ('RegExp', 'NNP'),\n",
       " ('(', '('),\n",
       " ('``', '``'),\n",
       " ('sckattempt=', 'VB'),\n",
       " ('[', 'JJ'),\n",
       " ('0-9', 'JJ'),\n",
       " (']', 'NNP'),\n",
       " ('\\\\', 'NNP'),\n",
       " ('&', 'CC'),\n",
       " (\"''\", \"''\"),\n",
       " (')', ')'),\n",
       " (',', ','),\n",
       " ('``', '``'),\n",
       " (\"''\", \"''\"),\n",
       " (')', ')'),\n",
       " ('.replace', 'NN'),\n",
       " ('(', '('),\n",
       " ('new', 'JJ'),\n",
       " ('RegExp', 'NNP'),\n",
       " ('(', '('),\n",
       " ('``', '``'),\n",
       " ('[', 'NNP'),\n",
       " ('?', '.'),\n",
       " ('&', 'CC'),\n",
       " (']', 'NNP'),\n",
       " ('sckattempt=', 'VBP'),\n",
       " ('[', 'JJ'),\n",
       " ('0-9', 'JJ'),\n",
       " (']', 'NN'),\n",
       " (\"''\", \"''\"),\n",
       " (')', ')'),\n",
       " (',', ','),\n",
       " ('``', '``'),\n",
       " (\"''\", \"''\"),\n",
       " (')', ')'),\n",
       " (';', ':')]"
      ]
     },
     "execution_count": 33,
     "metadata": {},
     "output_type": "execute_result"
    }
   ],
   "source": [
    "text_soup_pos"
   ]
  },
  {
   "cell_type": "code",
   "execution_count": 34,
   "metadata": {},
   "outputs": [],
   "source": [
    "ner = ne_chunk(text_soup_pos)"
   ]
  },
  {
   "cell_type": "code",
   "execution_count": 35,
   "metadata": {},
   "outputs": [
    {
     "name": "stdout",
     "output_type": "stream",
     "text": [
      "Tree('S', [('You', 'PRP'), ('will', 'MD'), ('be', 'VB'), ('connected', 'VBN'), ('to', 'TO'), ('thelocal.fr', 'VB'), ('in', 'IN'), ('just', 'RB'), ('a', 'DT'), ('moment', 'NN'), ('...', ':'), ('Learn', 'NNP'), ('about', 'IN'), Tree('PERSON', [('Project', 'NNP'), ('Shieldfunction', 'NNP')]), ('toNumbers', 'NNS'), ('(', '('), ('d', 'NN'), (')', ')'), ('{', '('), ('var', 'JJ'), ('e=', 'NN'), ('[', 'NNP'), (']', 'NNP'), (';', ':'), ('d.replace', 'NN'), ('(', '('), ('/', 'NNP'), ('(', '('), ('..', 'NNP'), (')', ')'), ('/g', 'NN'), (',', ','), ('function', 'NN'), ('(', '('), ('d', 'NN'), (')', ')'), ('{', '('), ('e.push', 'NN'), ('(', '('), Tree('ORGANIZATION', [('parseInt', 'NN')]), ('(', '('), ('d,16', 'NN'), (')', ')'), (')', ')'), ('}', ')'), (')', ')'), (';', ':'), ('return', 'VB'), ('e', 'NN'), (';', ':'), ('}', ')'), ('function', 'NN'), ('toHex', 'NNS'), ('(', '('), (')', ')'), ('{', '('), ('for', 'IN'), ('(', '('), ('var', 'JJ'), ('d=', 'NN'), ('[', 'NNP'), (']', 'NNP'), (',', ','), ('d=1==arguments.length', 'NNP'), ('&', 'CC'), ('&', 'CC'), ('arguments', 'NNS'), ('[', 'VBP'), ('0', 'CD'), (']', 'JJ'), ('.constructor==Array', 'NN'), ('?', '.'), ('arguments', 'NNS'), ('[', 'VBP'), ('0', 'CD'), (']', 'NNS'), (':', ':'), ('arguments', 'NNS'), (',', ','), ('e=', 'NN'), (\"''\", \"''\"), (\"''\", \"''\"), (',', ','), ('f=0', 'VBP'), (';', ':'), ('f', 'JJ'), ('<', 'NNP'), ('d.length', 'NN'), (';', ':'), ('f++', 'NN'), (')', ')'), ('e+=', 'NN'), ('(', '('), ('16', 'CD'), ('>', 'NNP'), ('d', 'NN'), ('[', 'NNP'), ('f', 'NN'), (']', 'NNP'), ('?', '.'), ('``', '``'), ('0', 'CD'), (\"''\", \"''\"), (':', ':'), (\"''\", \"''\"), (\"''\", \"''\"), (')', ')'), ('+d', 'FW'), ('[', 'FW'), ('f', 'FW'), (']', 'FW'), ('.toString', 'VBG'), ('(', '('), ('16', 'CD'), (')', ')'), (';', ':'), ('return', 'VB'), ('e.toLowerCase', 'FW'), ('(', '('), (')', ')'), ('}', ')'), ('var', 'FW'), ('a=toNumbers', 'NNS'), ('(', '('), ('``', '``'), ('aa5a872fb72170d33276857db27ea0d7', 'RB'), (\"''\", \"''\"), (')', ')'), (',', ','), ('b=toNumbers', 'NNS'), ('(', '('), ('``', '``'), ('612febbe4bc3f33fa619d5a6c5a5fda8', 'CD'), (\"''\", \"''\"), (')', ')'), (',', ','), ('c=toNumbers', 'NNS'), ('(', '('), ('``', '``'), ('bda7581f131981ec65503d0bce7102fc', 'NN'), (\"''\", \"''\"), (')', ')'), (';', ':'), ('document.cookie=', 'NN'), (\"''\", \"''\"), ('STC=', 'NNP'), (\"''\", \"''\"), ('+toHex', 'NN'), ('(', '('), ('slowAES.decrypt', 'NN'), ('(', '('), ('c,2', 'NN'), (',', ','), ('a', 'DT'), (',', ','), ('b', 'NN'), (')', ')'), (')', ')'), ('+', 'NN'), (\"''\", \"''\"), (';', ':'), ('expires=Thu', 'VB'), (',', ','), ('31-Dec-37', 'JJ'), ('23:55:55', 'CD'), ('GMT', 'NNP'), (';', ':'), ('domain=.thelocal.fr', 'NN'), (';', ':'), ('path=/', 'NN'), (\"''\", \"''\"), (';', ':'), ('location.href=', 'CC'), (\"''\", \"''\"), ('http', 'NN'), (':', ':'), ('//thelocal.fr/', 'NN'), ('?', '.'), ('sckattempt=1', 'NN'), (\"''\", \"''\"), ('.replace', 'NN'), ('(', '('), ('new', 'JJ'), ('RegExp', 'NNP'), ('(', '('), ('``', '``'), ('sckattempt=', 'VB'), ('[', 'JJ'), ('0-9', 'JJ'), (']', 'NNP'), ('\\\\', 'NNP'), ('&', 'CC'), (\"''\", \"''\"), (')', ')'), (',', ','), ('``', '``'), (\"''\", \"''\"), (')', ')'), ('.replace', 'NN'), ('(', '('), ('new', 'JJ'), ('RegExp', 'NNP'), ('(', '('), ('``', '``'), ('[', 'NNP'), ('?', '.'), ('&', 'CC'), (']', 'NNP'), ('sckattempt=', 'VBP'), ('[', 'JJ'), ('0-9', 'JJ'), (']', 'NN'), (\"''\", \"''\"), (')', ')'), (',', ','), ('``', '``'), (\"''\", \"''\"), (')', ')'), (';', ':')])\n"
     ]
    }
   ],
   "source": [
    "print(ner.__repr__())"
   ]
  },
  {
   "cell_type": "code",
   "execution_count": 36,
   "metadata": {},
   "outputs": [
    {
     "name": "stdout",
     "output_type": "stream",
     "text": [
      "[('e=\"\",f=0;f', 'CARDINAL'),\n",
      " ('toNumbers(\"612febbe4bc3f33fa619d5a6c5a5fda8\"),c', 'CARDINAL'),\n",
      " ('31-Dec-37 23:55:55 GMT', 'FAC'),\n",
      " ('path=/\";location.href=\"http://thelocal.fr/?sckattempt=1\".replace(new '\n",
      "  'RegExp(\"sckattempt=[0-9]\\\\&\"',\n",
      "  'ORG')]\n"
     ]
    }
   ],
   "source": [
    "doc = nlp(text_soup)\n",
    "pprint([(X.text, X.label_) for X in doc.ents])"
   ]
  },
  {
   "cell_type": "code",
   "execution_count": 37,
   "metadata": {},
   "outputs": [
    {
     "name": "stdout",
     "output_type": "stream",
     "text": [
      "[(You, 'O', ''),\n",
      " (will, 'O', ''),\n",
      " (be, 'O', ''),\n",
      " (connected, 'O', ''),\n",
      " (to, 'O', ''),\n",
      " (thelocal.fr, 'O', ''),\n",
      " (in, 'O', ''),\n",
      " (just, 'O', ''),\n",
      " (a, 'O', ''),\n",
      " (moment, 'O', ''),\n",
      " (..., 'O', ''),\n",
      " (Learn, 'O', ''),\n",
      " (about, 'O', ''),\n",
      " (Project, 'O', ''),\n",
      " (Shieldfunction, 'O', ''),\n",
      " (toNumbers(d){var, 'O', ''),\n",
      " (e=[];d.replace(/(, 'O', ''),\n",
      " (.., 'O', ''),\n",
      " ()/g, 'O', ''),\n",
      " (,, 'O', ''),\n",
      " (function(d){e.push(parseInt(d,16))});return, 'O', ''),\n",
      " (e;}function, 'O', ''),\n",
      " (toHex(){for(var, 'O', ''),\n",
      " (d=[],d=1==arguments.length&&arguments[0].constructor==Array?arguments[0]:arguments,\n",
      "  'O',\n",
      "  ''),\n",
      " (,, 'O', ''),\n",
      " (e=\"\",f=0;f, 'B', 'CARDINAL'),\n",
      " (<, 'O', ''),\n",
      " (d.length;f++)e+=(16, 'O', ''),\n",
      " (>, 'O', ''),\n",
      " (d[f]?\"0\":\"\")+d[f].toString(16);return, 'O', ''),\n",
      " (e.toLowerCase()}var, 'O', ''),\n",
      " (a, 'O', ''),\n",
      " (=, 'O', ''),\n",
      " (toNumbers(\"aa5a872fb72170d33276857db27ea0d7\"),b, 'O', ''),\n",
      " (=, 'O', ''),\n",
      " (toNumbers(\"612febbe4bc3f33fa619d5a6c5a5fda8\"),c, 'B', 'CARDINAL'),\n",
      " (=, 'O', ''),\n",
      " (toNumbers(\"bda7581f131981ec65503d0bce7102fc\");document.cookie=\"STC=\"+toHex(slowAES.decrypt(c,2,a,\n",
      "  'O',\n",
      "  ''),\n",
      " (,, 'O', ''),\n",
      " (b))+, 'O', ''),\n",
      " (\", 'O', ''),\n",
      " (;, 'O', ''),\n",
      " (expires, 'O', ''),\n",
      " (=, 'O', ''),\n",
      " (Thu, 'O', ''),\n",
      " (,, 'O', ''),\n",
      " (31-Dec-37, 'B', 'FAC'),\n",
      " (23:55:55, 'I', 'FAC'),\n",
      " (GMT, 'I', 'FAC'),\n",
      " (;, 'O', ''),\n",
      " (domain=.thelocal.fr, 'O', ''),\n",
      " (;, 'O', ''),\n",
      " (path=/\";location.href=\"http://thelocal.fr/?sckattempt=1\".replace(new,\n",
      "  'B',\n",
      "  'ORG'),\n",
      " (RegExp(\"sckattempt=[0, 'I', 'ORG'),\n",
      " (-, 'I', 'ORG'),\n",
      " (9]\\, 'I', 'ORG'),\n",
      " (&, 'I', 'ORG'),\n",
      " (\", 'I', 'ORG'),\n",
      " (), 'O', ''),\n",
      " (,, 'O', ''),\n",
      " (\", 'O', ''),\n",
      " (\", 'O', ''),\n",
      " (), 'O', ''),\n",
      " (.replace(new, 'O', ''),\n",
      " (RegExp(\"[?&]sckattempt=[0, 'O', ''),\n",
      " (-, 'O', ''),\n",
      " (9, 'O', ''),\n",
      " (], 'O', ''),\n",
      " (\", 'O', ''),\n",
      " (), 'O', ''),\n",
      " (,, 'O', ''),\n",
      " (\", 'O', ''),\n",
      " (\"), 'O', ''),\n",
      " (;, 'O', '')]\n"
     ]
    }
   ],
   "source": [
    "''' \"B\" means the token begins an entity,\n",
    "    \"I\" means it is inside an entity,\n",
    "    \"O\" means it is outside an entity,\n",
    "    and \"\" means no entity tag is set.'''\n",
    "\n",
    "pprint([(X, X.ent_iob_, X.ent_type_) for X in doc])"
   ]
  }
 ],
 "metadata": {
  "kernelspec": {
   "display_name": "Python 3",
   "language": "python",
   "name": "python3"
  },
  "language_info": {
   "codemirror_mode": {
    "name": "ipython",
    "version": 3
   },
   "file_extension": ".py",
   "mimetype": "text/x-python",
   "name": "python",
   "nbconvert_exporter": "python",
   "pygments_lexer": "ipython3",
   "version": "3.7.4"
  }
 },
 "nbformat": 4,
 "nbformat_minor": 4
}
