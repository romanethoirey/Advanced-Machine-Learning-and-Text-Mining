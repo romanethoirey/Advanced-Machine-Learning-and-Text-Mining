{
 "cells": [
  {
   "cell_type": "code",
   "execution_count": 1,
   "metadata": {},
   "outputs": [
    {
     "name": "stderr",
     "output_type": "stream",
     "text": [
      "[nltk_data] Downloading package stopwords to\n",
      "[nltk_data]     /Users/romane/nltk_data...\n",
      "[nltk_data]   Package stopwords is already up-to-date!\n"
     ]
    },
    {
     "data": {
      "text/plain": [
       "True"
      ]
     },
     "execution_count": 1,
     "metadata": {},
     "output_type": "execute_result"
    }
   ],
   "source": [
    "from nltk.corpus import stopwords\n",
    "from nltk import download\n",
    "import gensim\n",
    "from gensim.models import Word2Vec\n",
    "download('stopwords')"
   ]
  },
  {
   "cell_type": "code",
   "execution_count": 2,
   "metadata": {},
   "outputs": [],
   "source": [
    "# Load the doc2vec pretrained model \n",
    "model = gensim.models.KeyedVectors.load_word2vec_format('GoogleNews-vectors-negative300-SLIM.bin', binary=True)"
   ]
  },
  {
   "cell_type": "code",
   "execution_count": 3,
   "metadata": {},
   "outputs": [],
   "source": [
    "import re\n",
    "from nltk import word_tokenize\n",
    "\n",
    "stop_words = stopwords.words('english')\n",
    "# function for text preprocessing\n",
    "def clean_data(data):\n",
    "    data = [filter_text(sentence) for sentence in data]\n",
    "    return data\n",
    "\n",
    "def filter_text(text):\n",
    "    # Remove urls\n",
    "    text = re.sub(\"(?P<url>https?://[^\\s]+)\", '', text)\n",
    "    text = re.sub(\"http\", '', text)\n",
    "    text = re.sub(r'//t\\.co.+', '', text)\n",
    "    # Remove retweets\n",
    "    text = re.sub(r'^RT @.+\\:', '', text)\n",
    "    text = re.sub('@', '', text)\n",
    "    # Remove new line characters\n",
    "    text = re.sub(r'\\s+', ' ', text)\n",
    "    # Remove distracting single quotes\n",
    "    text = re.sub(r\"\\'\", \"\", text)\n",
    "    return [word for word in word_tokenize(text) if word not in stop_words]"
   ]
  },
  {
   "cell_type": "code",
   "execution_count": 4,
   "metadata": {},
   "outputs": [
    {
     "data": {
      "text/html": [
       "<div>\n",
       "<style scoped>\n",
       "    .dataframe tbody tr th:only-of-type {\n",
       "        vertical-align: middle;\n",
       "    }\n",
       "\n",
       "    .dataframe tbody tr th {\n",
       "        vertical-align: top;\n",
       "    }\n",
       "\n",
       "    .dataframe thead th {\n",
       "        text-align: right;\n",
       "    }\n",
       "</style>\n",
       "<table border=\"1\" class=\"dataframe\">\n",
       "  <thead>\n",
       "    <tr style=\"text-align: right;\">\n",
       "      <th></th>\n",
       "      <th>0</th>\n",
       "    </tr>\n",
       "  </thead>\n",
       "  <tbody>\n",
       "    <tr>\n",
       "      <td>0</td>\n",
       "      <td>I'm white and I won't go anywhere near Alabama...</td>\n",
       "    </tr>\n",
       "    <tr>\n",
       "      <td>1</td>\n",
       "      <td>Another chief leaves Trump's manufacturing cou...</td>\n",
       "    </tr>\n",
       "    <tr>\n",
       "      <td>2</td>\n",
       "      <td>@SenWarren No he didn't #fauxcohontas! He cond...</td>\n",
       "    </tr>\n",
       "    <tr>\n",
       "      <td>3</td>\n",
       "      <td>https://t.co/zA33WQp977 #News Histórico líder ...</td>\n",
       "    </tr>\n",
       "    <tr>\n",
       "      <td>4</td>\n",
       "      <td>\"@DavidEMcK59 @cathymdonker @southoflife75 @Su...</td>\n",
       "    </tr>\n",
       "  </tbody>\n",
       "</table>\n",
       "</div>"
      ],
      "text/plain": [
       "                                                   0\n",
       "0  I'm white and I won't go anywhere near Alabama...\n",
       "1  Another chief leaves Trump's manufacturing cou...\n",
       "2  @SenWarren No he didn't #fauxcohontas! He cond...\n",
       "3  https://t.co/zA33WQp977 #News Histórico líder ...\n",
       "4  \"@DavidEMcK59 @cathymdonker @southoflife75 @Su..."
      ]
     },
     "execution_count": 4,
     "metadata": {},
     "output_type": "execute_result"
    }
   ],
   "source": [
    "import pandas as pd\n",
    "\n",
    "data = pd.read_json('tweets.json')\n",
    "data.head()"
   ]
  },
  {
   "cell_type": "code",
   "execution_count": 5,
   "metadata": {},
   "outputs": [],
   "source": [
    "data = clean_data(data[0].tolist())"
   ]
  },
  {
   "cell_type": "code",
   "execution_count": 6,
   "metadata": {},
   "outputs": [
    {
     "data": {
      "text/plain": [
       "[['Im', 'white', 'I', 'wont', 'go', 'anywhere', 'near', 'Alabama', '.'],\n",
       " ['Another', 'chief', 'leaves', 'Trumps', 'manufacturing', 'council'],\n",
       " ['SenWarren',\n",
       "  'No',\n",
       "  'didnt',\n",
       "  '#',\n",
       "  'fauxcohontas',\n",
       "  '!',\n",
       "  'He',\n",
       "  'condemned',\n",
       "  'participated',\n",
       "  'violence',\n",
       "  '#',\n",
       "  'Charlottesville',\n",
       "  'sides',\n",
       "  '!'],\n",
       " ['#',\n",
       "  'News',\n",
       "  'Histórico',\n",
       "  'líder',\n",
       "  'de',\n",
       "  'KKK',\n",
       "  'alaba',\n",
       "  'Trump',\n",
       "  'por',\n",
       "  '‘',\n",
       "  'decir',\n",
       "  'la',\n",
       "  'verdad',\n",
       "  '’',\n",
       "  'de',\n",
       "  'Charlottesville'],\n",
       " ['``',\n",
       "  'DavidEMcK59',\n",
       "  'cathymdonker',\n",
       "  'southoflife75',\n",
       "  'SusanDa50168535',\n",
       "  'timkaine',\n",
       "  'realDonaldTrump',\n",
       "  'Like',\n",
       "  'first',\n",
       "  'crime',\n",
       "  'I',\n",
       "  'noticed',\n",
       "  'Charlottesville',\n",
       "  'BS',\n",
       "  'kidnapping',\n",
       "  '.',\n",
       "  'Done',\n",
       "  'opposition',\n",
       "  'called',\n",
       "  'left',\n",
       "  '.',\n",
       "  'cant',\n",
       "  'block',\n",
       "  'peoples',\n",
       "  '...',\n",
       "  '.',\n",
       "  \"''\"],\n",
       " ['Depuis',\n",
       "  'le',\n",
       "  'drame',\n",
       "  'de',\n",
       "  '#',\n",
       "  'Charlottesville',\n",
       "  ',',\n",
       "  'il',\n",
       "  'semble',\n",
       "  'que',\n",
       "  'le',\n",
       "  'concept',\n",
       "  'de',\n",
       "  '#',\n",
       "  'PointGodwin',\n",
       "  'volé',\n",
       "  'en',\n",
       "  'éclats',\n",
       "  '.'],\n",
       " ['I', 'try', 'watch', ',', 'I', 'cant', 'stomach', '.'],\n",
       " ['Get', '...', '.', '...', '.'],\n",
       " ['The',\n",
       "  'folks',\n",
       "  'protested',\n",
       "  'vs',\n",
       "  'nazis',\n",
       "  '#',\n",
       "  'Charlottesville',\n",
       "  'real',\n",
       "  'patriots',\n",
       "  ',',\n",
       "  'neo',\n",
       "  'Nazism',\n",
       "  'chance',\n",
       "  'America'],\n",
       " ['Charlottesville',\n",
       "  'murder',\n",
       "  'suspect',\n",
       "  'failed',\n",
       "  'basic',\n",
       "  'training',\n",
       "  'Fort',\n",
       "  'Benning',\n",
       "  '2015',\n",
       "  '-']]"
      ]
     },
     "execution_count": 6,
     "metadata": {},
     "output_type": "execute_result"
    }
   ],
   "source": [
    "data[:10]"
   ]
  },
  {
   "cell_type": "code",
   "execution_count": 7,
   "metadata": {},
   "outputs": [
    {
     "data": {
      "image/png": "[encoded data removed]",
      "text/plain": [
       "<Figure size 576x432 with 1 Axes>"
      ]
     },
     "metadata": {
      "needs_background": "light"
     },
     "output_type": "display_data"
    }
   ],
   "source": [
    "# inspect the data by length of tweet\n",
    "from matplotlib import pyplot as plt\n",
    "%matplotlib inline\n",
    "\n",
    "# Document lengths.\n",
    "lens = [len(tweet) for tweet in data]\n",
    "\n",
    "# Plot.\n",
    "plt.rc('figure', figsize=(8,6))\n",
    "plt.rc('font', size=14)\n",
    "plt.rc('lines', linewidth=2)\n",
    "# Histogram.\n",
    "plt.hist(lens, bins=50,range=(0,70))\n",
    "# Average length.\n",
    "avg_len = sum(lens) / float(len(lens))\n",
    "plt.axvline(avg_len, color='#e41a1c')\n",
    "plt.title('Histogram of tweets lengths.')\n",
    "plt.xlabel('Length')\n",
    "plt.text(100, 800, 'mean = %.2f' % avg_len)\n",
    "plt.show()"
   ]
  },
  {
   "cell_type": "code",
   "execution_count": 8,
   "metadata": {},
   "outputs": [],
   "source": [
    "# Initialize WmdSimilarity.\n",
    "from gensim.similarities import WmdSimilarity\n",
    "num_best = 10\n",
    "instance = WmdSimilarity(data, model, num_best=10)"
   ]
  },
  {
   "cell_type": "code",
   "execution_count": 9,
   "metadata": {},
   "outputs": [],
   "source": [
    "sent = 'trouble in the middle east'\n",
    "query = filter_text(sent)\n",
    "\n",
    "sims = instance[query]"
   ]
  },
  {
   "cell_type": "code",
   "execution_count": 10,
   "metadata": {},
   "outputs": [
    {
     "name": "stdout",
     "output_type": "stream",
     "text": [
      "Query:\n",
      "trouble in the middle east\n",
      "\n",
      "sim = 0.5354\n",
      "krauthammer strikes right middle .\n",
      "\n",
      "sim = 0.5283\n",
      "`` realDonaldTrump - guess trouble telling difference.\\n # Charlottesville\\n # NaziInChief\\n # ImpeachTrump\\n # HeatherHeyerHero\\n # SayHerName\n",
      "\n",
      "sim = 0.5058\n",
      "They knew trouble coming\n",
      "\n",
      "sim = 0.5032\n",
      "really trouble # JeffSessions lecture # racism\n",
      "\n",
      "sim = 0.5005\n",
      "Those # NeoNazis # Charlottesville start trouble .\n",
      "\n",
      "sim = 0.4980\n",
      "The final middle finger .\n",
      "\n",
      "sim = 0.4965\n",
      "We trouble w U\n",
      "\n",
      "sim = 0.4965\n",
      "Asking trouble ... . # Woodford # investments : // twitter.com/HLInvest/statu s/1154764759402713089 …\n",
      "\n",
      "sim = 0.4933\n",
      "Why Dont protest middle road .\n",
      "\n",
      "sim = 0.4919\n",
      "look curved guys middle finger\n"
     ]
    }
   ],
   "source": [
    "# Print the query and the retrieved documents, together with their similarities.\n",
    "print('Query:')\n",
    "print(sent)\n",
    "for i in range(num_best):\n",
    "    print()\n",
    "    print('sim = %.4f' % sims[i][1])\n",
    "    print(' '.join(data[sims[i][0]]))"
   ]
  },
  {
   "cell_type": "code",
   "execution_count": 35,
   "metadata": {},
   "outputs": [
    {
     "ename": "NameError",
     "evalue": "name 'split_sentences' is not defined",
     "output_type": "error",
     "traceback": [
      "\u001b[0;31m---------------------------------------------------------------------------\u001b[0m",
      "\u001b[0;31mNameError\u001b[0m                                 Traceback (most recent call last)",
      "\u001b[0;32m<ipython-input-35-5342e487a8f6>\u001b[0m in \u001b[0;36m<module>\u001b[0;34m\u001b[0m\n\u001b[1;32m      3\u001b[0m \u001b[0;31m#\u001b[0m\u001b[0;34m\u001b[0m\u001b[0;34m\u001b[0m\u001b[0;34m\u001b[0m\u001b[0m\n\u001b[1;32m      4\u001b[0m model = gensim.models.Word2Vec(\n\u001b[0;32m----> 5\u001b[0;31m     \u001b[0;34m[\u001b[0m\u001b[0;34m[\u001b[0m\u001b[0mstr\u001b[0m\u001b[0;34m(\u001b[0m\u001b[0mword\u001b[0m\u001b[0;34m)\u001b[0m \u001b[0;32mfor\u001b[0m \u001b[0mword\u001b[0m \u001b[0;32min\u001b[0m \u001b[0msentence\u001b[0m\u001b[0;34m.\u001b[0m\u001b[0msplit\u001b[0m\u001b[0;34m(\u001b[0m\u001b[0;34m)\u001b[0m\u001b[0;34m]\u001b[0m \u001b[0;32mfor\u001b[0m \u001b[0msentence\u001b[0m \u001b[0;32min\u001b[0m \u001b[0msplit_sentences\u001b[0m\u001b[0;34m(\u001b[0m\u001b[0mraw_data\u001b[0m\u001b[0;34m)\u001b[0m\u001b[0;34m]\u001b[0m\u001b[0;34m,\u001b[0m\u001b[0;34m\u001b[0m\u001b[0;34m\u001b[0m\u001b[0m\n\u001b[0m\u001b[1;32m      6\u001b[0m     \u001b[0msize\u001b[0m\u001b[0;34m=\u001b[0m\u001b[0;36m150\u001b[0m\u001b[0;34m,\u001b[0m\u001b[0;34m\u001b[0m\u001b[0;34m\u001b[0m\u001b[0m\n\u001b[1;32m      7\u001b[0m     \u001b[0mwindow\u001b[0m\u001b[0;34m=\u001b[0m\u001b[0;36m10\u001b[0m\u001b[0;34m,\u001b[0m\u001b[0;34m\u001b[0m\u001b[0;34m\u001b[0m\u001b[0m\n",
      "\u001b[0;31mNameError\u001b[0m: name 'split_sentences' is not defined"
     ]
    }
   ],
   "source": [
    "# Task:\n",
    "# Redo this exercize by training the model from scratch on the twitter data\n",
    "# \n",
    "from gensim.summarization.textcleaner import split_sentences\n",
    "model = gensim.models.Word2Vec(\n",
    "    [[str(word) for word in sentence.split()] for sentence in split_sentences(raw_data)],\n",
    "    size=150,\n",
    "    window=10,\n",
    "    min_count=2,\n",
    "    workers=-1,\n",
    "    iter=10)"
   ]
  },
  {
   "cell_type": "code",
   "execution_count": 13,
   "metadata": {},
   "outputs": [
    {
     "name": "stdout",
     "output_type": "stream",
     "text": [
      "<gensim.models.keyedvectors.Word2VecKeyedVectors object at 0x10e5f6490>\n"
     ]
    }
   ],
   "source": [
    "model.save('demo-model')\n",
    "print(model)"
   ]
  },
  {
   "cell_type": "code",
   "execution_count": 14,
   "metadata": {},
   "outputs": [
    {
     "name": "stderr",
     "output_type": "stream",
     "text": [
      "/Users/romane/opt/anaconda3/lib/python3.7/site-packages/ipykernel_launcher.py:2: DeprecationWarning: Call to deprecated `wv` (Attribute will be removed in 4.0.0, use self instead).\n",
      "  \n"
     ]
    }
   ],
   "source": [
    "# get list of word vectors\n",
    "model_words = list(model.wv.vocab)"
   ]
  },
  {
   "cell_type": "code",
   "execution_count": 15,
   "metadata": {},
   "outputs": [
    {
     "data": {
      "text/plain": [
       "299567"
      ]
     },
     "execution_count": 15,
     "metadata": {},
     "output_type": "execute_result"
    }
   ],
   "source": [
    "len(model_words)"
   ]
  },
  {
   "cell_type": "code",
   "execution_count": 16,
   "metadata": {},
   "outputs": [
    {
     "name": "stderr",
     "output_type": "stream",
     "text": [
      "/Users/romane/opt/anaconda3/lib/python3.7/site-packages/ipykernel_launcher.py:2: DeprecationWarning: Call to deprecated `wv` (Attribute will be removed in 4.0.0, use self instead).\n",
      "  \n"
     ]
    }
   ],
   "source": [
    "# get sorted list of word vectors\n",
    "words_indexes = list(model.wv.index2word)"
   ]
  },
  {
   "cell_type": "code",
   "execution_count": 17,
   "metadata": {},
   "outputs": [
    {
     "data": {
      "text/plain": [
       "299567"
      ]
     },
     "execution_count": 17,
     "metadata": {},
     "output_type": "execute_result"
    }
   ],
   "source": [
    "len(words_indexes)"
   ]
  },
  {
   "cell_type": "code",
   "execution_count": 19,
   "metadata": {},
   "outputs": [
    {
     "data": {
      "text/plain": [
       "['in',\n",
       " 'for',\n",
       " 'that',\n",
       " 'is',\n",
       " 'on',\n",
       " 'The',\n",
       " 'with',\n",
       " 'said',\n",
       " 'was',\n",
       " 'the',\n",
       " 'at',\n",
       " 'not',\n",
       " 'as',\n",
       " 'it',\n",
       " 'be',\n",
       " 'from',\n",
       " 'by',\n",
       " 'are',\n",
       " 'I',\n",
       " 'have']"
      ]
     },
     "execution_count": 19,
     "metadata": {},
     "output_type": "execute_result"
    }
   ],
   "source": [
    "words_indexes[:20]"
   ]
  },
  {
   "cell_type": "code",
   "execution_count": 20,
   "metadata": {},
   "outputs": [
    {
     "name": "stderr",
     "output_type": "stream",
     "text": [
      "/Users/romane/opt/anaconda3/lib/python3.7/site-packages/ipykernel_launcher.py:2: DeprecationWarning: Call to deprecated `wv` (Attribute will be removed in 4.0.0, use self instead).\n",
      "  \n"
     ]
    },
    {
     "data": {
      "text/plain": [
       "40"
      ]
     },
     "execution_count": 20,
     "metadata": {},
     "output_type": "execute_result"
    }
   ],
   "source": [
    "# check the index for a word\n",
    "model.wv.vocab['one'].index"
   ]
  },
  {
   "cell_type": "code",
   "execution_count": 21,
   "metadata": {},
   "outputs": [],
   "source": [
    "model.wv?"
   ]
  },
  {
   "cell_type": "code",
   "execution_count": 22,
   "metadata": {},
   "outputs": [
    {
     "name": "stderr",
     "output_type": "stream",
     "text": [
      "/Users/romane/opt/anaconda3/lib/python3.7/site-packages/ipykernel_launcher.py:1: DeprecationWarning: Call to deprecated `wv` (Attribute will be removed in 4.0.0, use self instead).\n",
      "  \"\"\"Entry point for launching an IPython kernel.\n"
     ]
    },
    {
     "data": {
      "text/plain": [
       "array([ 0.03171886, -0.10109327,  0.10855653,  0.11534131,  0.07632881,\n",
       "        0.0052158 ,  0.05122511, -0.02154169,  0.10923501,  0.06920478,\n",
       "        0.03612897, -0.1031287 ,  0.04477957,  0.08209588, -0.01840372,\n",
       "        0.06275924,  0.00669997, -0.08582751, -0.01984549,  0.00502498,\n",
       "       -0.04477957,  0.0563137 , -0.06072381, -0.02832647,  0.01306071,\n",
       "        0.05733142, -0.05529598,  0.05495674,  0.00767529,  0.0580099 ,\n",
       "        0.00128275,  0.05292131,  0.03358468,  0.0069544 ,  0.00631833,\n",
       "        0.00538542,  0.01704677, -0.02111764,  0.03188848, -0.01848853,\n",
       "        0.07124022, -0.00966832,  0.0121278 ,  0.04410109,  0.04172641,\n",
       "        0.02747837,  0.06852631,  0.00784491, -0.06038457, -0.01781006,\n",
       "       -0.03494163,  0.03494163,  0.01009236,  0.00155838, -0.03680745,\n",
       "       -0.00602149,  0.02120245,  0.00886262,  0.03952136,  0.05461751,\n",
       "        0.02120245,  0.06716935,  0.00268211, -0.14315893, -0.05258207,\n",
       "       -0.00597909, -0.04477957,  0.00589428, -0.04087832,  0.08955914,\n",
       "        0.00975313,  0.06072381,  0.04477957, -0.00733605, -0.0337543 ,\n",
       "       -0.02188092, -0.01611386,  0.09363001,  0.04783272,  0.05970609,\n",
       "        0.06581239, -0.11330587,  0.10177175, -0.06208076, -0.0814174 ,\n",
       "       -0.06174153, -0.01585943, -0.01789487, -0.0320581 , -0.04918968,\n",
       "        0.05258207,  0.09363001, -0.04003022, -0.04003022, -0.12348305,\n",
       "       -0.04121756,  0.0814174 ,  0.02917457, -0.09430849,  0.03324544,\n",
       "       -0.04444033, -0.01882777,  0.01467209, -0.00623352, -0.00848098,\n",
       "       -0.00809934,  0.07700729,  0.00039225,  0.00021865, -0.0641162 ,\n",
       "       -0.06920478, -0.07836425, -0.02060878,  0.02238978,  0.11330587,\n",
       "        0.04172641,  0.04545804, -0.03324544,  0.12891088,  0.01899739,\n",
       "       -0.15808545, -0.0121278 , -0.08447055,  0.03222772, -0.04545804,\n",
       "       -0.08888066,  0.04376185, -0.03324544,  0.03239734,  0.08820218,\n",
       "       -0.0216265 , -0.11737674, -0.01314552, -0.00699681,  0.07056174,\n",
       "       -0.09905783, -0.03137962, -0.06275924, -0.01594424,  0.05936685,\n",
       "        0.08073892, -0.12144762,  0.06988326,  0.01696196,  0.17640436,\n",
       "        0.08073892, -0.02629104, -0.01628348, -0.05936685, -0.02781761,\n",
       "       -0.04477957, -0.00962591, -0.08955914,  0.02883533, -0.05868837,\n",
       "        0.02832647, -0.06004533, -0.10855653, -0.00301075, -0.01187337,\n",
       "       -0.12687545, -0.01263666,  0.04410109, -0.00375283, -0.01611386,\n",
       "       -0.00460093,  0.05495674, -0.04817196, -0.09227305, -0.04172641,\n",
       "       -0.12755392, -0.01789487, -0.00585188, -0.19268784, -0.02171131,\n",
       "       -0.06750859,  0.01068603, -0.05699218, -0.01755563, -0.00058042,\n",
       "        0.02917457, -0.06004533, -0.01170375,  0.05767066, -0.046815  ,\n",
       "        0.04986816, -0.00339239,  0.01535057,  0.05054663,  0.00225806,\n",
       "        0.01789487, -0.01051641,  0.03426316, -0.05190359, -0.05529598,\n",
       "       -0.00729364, -0.02374674,  0.04206565, -0.11737674, -0.14315893,\n",
       "        0.03273658,  0.07632881,  0.02374674,  0.05427827, -0.07938197,\n",
       "       -0.03409354, -0.07124022, -0.02832647,  0.0415568 , -0.02951381,\n",
       "        0.06479468,  0.08888066, -0.04952892,  0.0129759 , -0.02272902,\n",
       "        0.05936685, -0.00354081, -0.03188848, -0.09973631,  0.04715424,\n",
       "        0.02026954,  0.03511125,  0.00273512, -0.04291375,  0.09023762,\n",
       "       -0.01280628,  0.09430849,  0.06106305,  0.04257451,  0.01272147,\n",
       "       -0.02934419,  0.00818414,  0.04308337,  0.0641162 ,  0.07056174,\n",
       "        0.00328638,  0.01441766, -0.06988326, -0.02764799,  0.01441766,\n",
       "        0.03087076, -0.01416323, -0.03121   , -0.14315893,  0.08548827,\n",
       "        0.00094881,  0.01085565, -0.03239734,  0.04918968, -0.0320581 ,\n",
       "       -0.046815  , -0.05326055,  0.02188092,  0.0034772 ,  0.00142056,\n",
       "        0.05054663,  0.02357712,  0.0329062 , -0.01814929, -0.10448566,\n",
       "       -0.02442522, -0.0129759 , -0.06377696, -0.02493408,  0.05359979,\n",
       "        0.06615163,  0.04579728,  0.07429338, -0.13094631,  0.03477201,\n",
       "        0.04613652, -0.00413448, -0.02306826,  0.00614871,  0.09159457,\n",
       "       -0.05970609, -0.13705263, -0.08820218, -0.01229742, -0.08684523,\n",
       "       -0.0303619 ,  0.01467209,  0.02188092,  0.06615163, -0.01246704,\n",
       "       -0.0580099 , -0.09498696, -0.05224283, -0.00992275,  0.05122511,\n",
       "       -0.02009992, -0.00903224, -0.04189603, -0.02272902, -0.0719187 ,\n",
       "        0.03104038, -0.06615163, -0.01102527,  0.00466454, -0.00130925],\n",
       "      dtype=float32)"
      ]
     },
     "execution_count": 22,
     "metadata": {},
     "output_type": "execute_result"
    }
   ],
   "source": [
    "model.wv.get_vector('one')"
   ]
  },
  {
   "cell_type": "code",
   "execution_count": 23,
   "metadata": {},
   "outputs": [
    {
     "name": "stderr",
     "output_type": "stream",
     "text": [
      "/Users/romane/opt/anaconda3/lib/python3.7/site-packages/ipykernel_launcher.py:1: DeprecationWarning: Call to deprecated `wv` (Attribute will be removed in 4.0.0, use self instead).\n",
      "  \"\"\"Entry point for launching an IPython kernel.\n"
     ]
    },
    {
     "data": {
      "text/plain": [
       "300"
      ]
     },
     "execution_count": 23,
     "metadata": {},
     "output_type": "execute_result"
    }
   ],
   "source": [
    "len(model.wv.get_vector('one'))"
   ]
  },
  {
   "cell_type": "code",
   "execution_count": 24,
   "metadata": {},
   "outputs": [],
   "source": [
    "model.wv.doesnt_match?"
   ]
  },
  {
   "cell_type": "code",
   "execution_count": 25,
   "metadata": {},
   "outputs": [
    {
     "name": "stderr",
     "output_type": "stream",
     "text": [
      "/Users/romane/opt/anaconda3/lib/python3.7/site-packages/ipykernel_launcher.py:2: DeprecationWarning: Call to deprecated `wv` (Attribute will be removed in 4.0.0, use self instead).\n",
      "  \n",
      "/Users/romane/opt/anaconda3/lib/python3.7/site-packages/gensim/models/keyedvectors.py:877: FutureWarning: arrays to stack must be passed as a \"sequence\" type such as list or tuple. Support for non-sequence iterables such as generators is deprecated as of NumPy 1.16 and will raise an error in the future.\n",
      "  vectors = vstack(self.word_vec(word, use_norm=True) for word in used_words).astype(REAL)\n"
     ]
    },
    {
     "data": {
      "text/plain": [
       "'cereal'"
      ]
     },
     "execution_count": 25,
     "metadata": {},
     "output_type": "execute_result"
    }
   ],
   "source": [
    "# find word in list that is farthest from the mean\n",
    "model.wv.doesnt_match(\"breakfast cereal dinner lunch\".split())"
   ]
  },
  {
   "cell_type": "code",
   "execution_count": 26,
   "metadata": {},
   "outputs": [
    {
     "name": "stderr",
     "output_type": "stream",
     "text": [
      "/Users/romane/opt/anaconda3/lib/python3.7/site-packages/ipykernel_launcher.py:1: DeprecationWarning: Call to deprecated `wv` (Attribute will be removed in 4.0.0, use self instead).\n",
      "  \"\"\"Entry point for launching an IPython kernel.\n"
     ]
    },
    {
     "data": {
      "text/plain": [
       "'sport'"
      ]
     },
     "execution_count": 26,
     "metadata": {},
     "output_type": "execute_result"
    }
   ],
   "source": [
    "model.wv.doesnt_match(\"cook janitor pilot sport teacher\".split())"
   ]
  },
  {
   "cell_type": "code",
   "execution_count": 27,
   "metadata": {},
   "outputs": [
    {
     "name": "stderr",
     "output_type": "stream",
     "text": [
      "/Users/romane/opt/anaconda3/lib/python3.7/site-packages/ipykernel_launcher.py:1: DeprecationWarning: Call to deprecated `wv` (Attribute will be removed in 4.0.0, use self instead).\n",
      "  \"\"\"Entry point for launching an IPython kernel.\n"
     ]
    },
    {
     "data": {
      "text/plain": [
       "'love'"
      ]
     },
     "execution_count": 27,
     "metadata": {},
     "output_type": "execute_result"
    }
   ],
   "source": [
    "model.wv.doesnt_match(\"kill dead knife love\".split())"
   ]
  },
  {
   "cell_type": "code",
   "execution_count": 28,
   "metadata": {},
   "outputs": [
    {
     "name": "stderr",
     "output_type": "stream",
     "text": [
      "/Users/romane/opt/anaconda3/lib/python3.7/site-packages/ipykernel_launcher.py:1: DeprecationWarning: Call to deprecated `wv` (Attribute will be removed in 4.0.0, use self instead).\n",
      "  \"\"\"Entry point for launching an IPython kernel.\n"
     ]
    },
    {
     "data": {
      "text/plain": [
       "'tree'"
      ]
     },
     "execution_count": 28,
     "metadata": {},
     "output_type": "execute_result"
    }
   ],
   "source": [
    "model.wv.doesnt_match(\"insect animal cat tree\".split())"
   ]
  },
  {
   "cell_type": "code",
   "execution_count": 29,
   "metadata": {},
   "outputs": [
    {
     "name": "stderr",
     "output_type": "stream",
     "text": [
      "/Users/romane/opt/anaconda3/lib/python3.7/site-packages/ipykernel_launcher.py:1: DeprecationWarning: Call to deprecated `wv` (Attribute will be removed in 4.0.0, use self instead).\n",
      "  \"\"\"Entry point for launching an IPython kernel.\n"
     ]
    },
    {
     "data": {
      "text/plain": [
       "'lion'"
      ]
     },
     "execution_count": 29,
     "metadata": {},
     "output_type": "execute_result"
    }
   ],
   "source": [
    "model.wv.doesnt_match(\"dog cat parrot lion\".split())"
   ]
  },
  {
   "cell_type": "code",
   "execution_count": 30,
   "metadata": {},
   "outputs": [],
   "source": [
    "model.wv.similarity?"
   ]
  },
  {
   "cell_type": "code",
   "execution_count": 31,
   "metadata": {},
   "outputs": [
    {
     "name": "stderr",
     "output_type": "stream",
     "text": [
      "/Users/romane/opt/anaconda3/lib/python3.7/site-packages/ipykernel_launcher.py:1: DeprecationWarning: Call to deprecated `wv` (Attribute will be removed in 4.0.0, use self instead).\n",
      "  \"\"\"Entry point for launching an IPython kernel.\n"
     ]
    },
    {
     "data": {
      "text/plain": [
       "0.37493223"
      ]
     },
     "execution_count": 31,
     "metadata": {},
     "output_type": "execute_result"
    }
   ],
   "source": [
    "model.wv.similarity('angry', 'happy')"
   ]
  },
  {
   "cell_type": "code",
   "execution_count": 32,
   "metadata": {},
   "outputs": [
    {
     "name": "stderr",
     "output_type": "stream",
     "text": [
      "/Users/romane/opt/anaconda3/lib/python3.7/site-packages/ipykernel_launcher.py:1: DeprecationWarning: Call to deprecated `wv` (Attribute will be removed in 4.0.0, use self instead).\n",
      "  \"\"\"Entry point for launching an IPython kernel.\n"
     ]
    },
    {
     "data": {
      "text/plain": [
       "0.24068612"
      ]
     },
     "execution_count": 32,
     "metadata": {},
     "output_type": "execute_result"
    }
   ],
   "source": [
    "model.wv.similarity('woman', 'tree')"
   ]
  },
  {
   "cell_type": "code",
   "execution_count": 33,
   "metadata": {},
   "outputs": [
    {
     "name": "stderr",
     "output_type": "stream",
     "text": [
      "/Users/romane/opt/anaconda3/lib/python3.7/site-packages/ipykernel_launcher.py:2: DeprecationWarning: Call to deprecated `wv` (Attribute will be removed in 4.0.0, use self instead).\n",
      "  \n"
     ]
    },
    {
     "data": {
      "text/plain": [
       "[('man', 0.7664012312889099),\n",
       " ('girl', 0.7494640946388245),\n",
       " ('teenager', 0.631708562374115),\n",
       " ('lady', 0.6288787126541138),\n",
       " ('mother', 0.607630729675293),\n",
       " ('policewoman', 0.6069462299346924),\n",
       " ('boy', 0.5975908041000366),\n",
       " ('Woman', 0.5770983099937439),\n",
       " ('she', 0.5641393661499023),\n",
       " ('WOMAN', 0.5480420589447021)]"
      ]
     },
     "execution_count": 33,
     "metadata": {},
     "output_type": "execute_result"
    }
   ],
   "source": [
    "# closest by cosine similarity\n",
    "model.wv.similar_by_word('woman', topn=10)"
   ]
  },
  {
   "cell_type": "code",
   "execution_count": 34,
   "metadata": {},
   "outputs": [
    {
     "name": "stderr",
     "output_type": "stream",
     "text": [
      "/Users/romane/opt/anaconda3/lib/python3.7/site-packages/ipykernel_launcher.py:1: DeprecationWarning: Call to deprecated `wv` (Attribute will be removed in 4.0.0, use self instead).\n",
      "  \"\"\"Entry point for launching an IPython kernel.\n"
     ]
    },
    {
     "data": {
      "text/plain": [
       "[('queen', 0.7118192911148071),\n",
       " ('monarch', 0.6189674735069275),\n",
       " ('princess', 0.5902431607246399),\n",
       " ('prince', 0.5377322435379028),\n",
       " ('kings', 0.5236844420433044),\n",
       " ('queens', 0.5181134343147278),\n",
       " ('sultan', 0.5098593235015869),\n",
       " ('monarchy', 0.5087411999702454),\n",
       " ('throne', 0.5005807280540466),\n",
       " ('royal', 0.4938204884529114)]"
      ]
     },
     "execution_count": 34,
     "metadata": {},
     "output_type": "execute_result"
    }
   ],
   "source": [
    "model.wv.most_similar(positive=['woman', 'king'], negative=['man'], topn=10)"
   ]
  },
  {
   "cell_type": "code",
   "execution_count": null,
   "metadata": {},
   "outputs": [],
   "source": []
  }
 ],
 "metadata": {
  "kernelspec": {
   "display_name": "Python 3",
   "language": "python",
   "name": "python3"
  },
  "language_info": {
   "codemirror_mode": {
    "name": "ipython",
    "version": 3
   },
   "file_extension": ".py",
   "mimetype": "text/x-python",
   "name": "python",
   "nbconvert_exporter": "python",
   "pygments_lexer": "ipython3",
   "version": "3.7.4"
  }
 },
 "nbformat": 4,
 "nbformat_minor": 4
}
