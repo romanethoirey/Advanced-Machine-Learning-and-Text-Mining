{
 "cells": [
  {
   "cell_type": "markdown",
   "metadata": {},
   "source": [
    "## Test preprocessing"
   ]
  },
  {
   "cell_type": "markdown",
   "metadata": {},
   "source": [
    "### This notebook serves as an exercise to practice all text preprocessing steps a given text document using 3 different libraries"
   ]
  },
  {
   "cell_type": "markdown",
   "metadata": {},
   "source": [
    "### load and explore the data"
   ]
  },
  {
   "cell_type": "code",
   "execution_count": 15,
   "metadata": {},
   "outputs": [],
   "source": [
    "data = ''\n",
    "with open('data.txt','r') as inputfile:\n",
    "    data = inputfile.read()"
   ]
  },
  {
   "cell_type": "code",
   "execution_count": 16,
   "metadata": {},
   "outputs": [
    {
     "name": "stdout",
     "output_type": "stream",
     "text": [
      "Neuro-linguistic programming (NLP) is a pseudoscientific approach to communication, personal development, and psychotherapy created by Richard Bandler and John Grinder in California, United States in the 1970s. NLP's creators claim there is a connection between neurological processes (neuro-), language (linguistic) and behavioral patterns learned through experience (programming), and that these can be changed to achieve specific goals in life.[1][2] Bandler and Grinder also claim that NLP methodology can \"model\" the skills of exceptional people, allowing anyone to acquire those skills.[3][4] They claim as well that, often in a single session, NLP can treat problems such as phobias, depression, tic disorders, psychosomatic illnesses, near-sightedness,[5] allergy, common cold,[6] and learning disorders.[7][8]\n",
      "\n",
      "There is no scientific evidence supporting the claims made by NLP advocates and it has been discredited as a pseudoscience.[9][10][11]\n",
      "\n",
      "Scientific reviews state that NLP is based on outdated metaphors of how the brain works that are inconsistent with current neurological theory and contain numerous factual errors.[12][13]\n",
      "\n",
      "Reviews also found that all of the supportive research on NLP contained significant methodological flaws and that there were three times as many studies of a much higher quality that failed to reproduce the \"extraordinary claims\" made by Bandler, Grinder, and other NLP practitioners.[10][11]\n"
     ]
    }
   ],
   "source": [
    "print(data)"
   ]
  },
  {
   "cell_type": "markdown",
   "metadata": {},
   "source": [
    "### Data cleaning"
   ]
  },
  {
   "cell_type": "code",
   "execution_count": 17,
   "metadata": {},
   "outputs": [],
   "source": [
    "# Need to clean unneeded markings\n",
    "import re\n",
    "\n",
    "data_clean = re.sub(\"\\[.+\\]\",\"\",data)#remove [NUM] tags"
   ]
  },
  {
   "cell_type": "code",
   "execution_count": 18,
   "metadata": {},
   "outputs": [
    {
     "data": {
      "text/plain": [
       "'Neuro-linguistic programming (NLP) is a pseudoscientific approach to communication, personal development, and psychotherapy created by Richard Bandler and John Grinder in California, United States in the 1970s. NLP\\'s creators claim there is a connection between neurological processes (neuro-), language (linguistic) and behavioral patterns learned through experience (programming), and that these can be changed to achieve specific goals in life.\\n\\nThere is no scientific evidence supporting the claims made by NLP advocates and it has been discredited as a pseudoscience.\\n\\nScientific reviews state that NLP is based on outdated metaphors of how the brain works that are inconsistent with current neurological theory and contain numerous factual errors.\\n\\nReviews also found that all of the supportive research on NLP contained significant methodological flaws and that there were three times as many studies of a much higher quality that failed to reproduce the \"extraordinary claims\" made by Bandler, Grinder, and other NLP practitioners.'"
      ]
     },
     "execution_count": 18,
     "metadata": {},
     "output_type": "execute_result"
    }
   ],
   "source": [
    "data_clean"
   ]
  },
  {
   "cell_type": "markdown",
   "metadata": {},
   "source": [
    "#### We can still see unneeded new-line (\\n) characters, but the tokenizer will take care of those"
   ]
  },
  {
   "cell_type": "markdown",
   "metadata": {},
   "source": [
    "### Tokenization"
   ]
  },
  {
   "cell_type": "code",
   "execution_count": 19,
   "metadata": {},
   "outputs": [
    {
     "data": {
      "text/plain": [
       "['Neuro-linguistic',\n",
       " 'programming',\n",
       " '(',\n",
       " 'NLP',\n",
       " ')',\n",
       " 'is',\n",
       " 'a',\n",
       " 'pseudoscientific',\n",
       " 'approach',\n",
       " 'to']"
      ]
     },
     "execution_count": 19,
     "metadata": {},
     "output_type": "execute_result"
    }
   ],
   "source": [
    "from nltk.tokenize import word_tokenize\n",
    "\n",
    "data_clean_word_tokenized = word_tokenize(data_clean)\n",
    "data_clean_word_tokenized[:10]"
   ]
  },
  {
   "cell_type": "markdown",
   "metadata": {},
   "source": [
    "#### Side note: in some nlp tasks, you need to preserve the sentence separation. In that case, you must first separate by sentence, and then separate these sentences into tokens"
   ]
  },
  {
   "cell_type": "code",
   "execution_count": 20,
   "metadata": {},
   "outputs": [
    {
     "data": {
      "text/plain": [
       "['Neuro-linguistic programming (NLP) is a pseudoscientific approach to communication, personal development, and psychotherapy created by Richard Bandler and John Grinder in California, United States in the 1970s.',\n",
       " \"NLP's creators claim there is a connection between neurological processes (neuro-), language (linguistic) and behavioral patterns learned through experience (programming), and that these can be changed to achieve specific goals in life.\"]"
      ]
     },
     "execution_count": 20,
     "metadata": {},
     "output_type": "execute_result"
    }
   ],
   "source": [
    "from nltk.tokenize import sent_tokenize\n",
    "\n",
    "data_clean_sent_tokenized = sent_tokenize(data_clean)\n",
    "data_clean_sent_tokenized[:2]"
   ]
  },
  {
   "cell_type": "code",
   "execution_count": 21,
   "metadata": {
    "scrolled": true
   },
   "outputs": [
    {
     "data": {
      "text/plain": [
       "['Neuro-linguistic',\n",
       " 'programming',\n",
       " '(',\n",
       " 'NLP',\n",
       " ')',\n",
       " 'is',\n",
       " 'a',\n",
       " 'pseudoscientific',\n",
       " 'approach',\n",
       " 'to',\n",
       " 'communication',\n",
       " ',',\n",
       " 'personal',\n",
       " 'development',\n",
       " ',',\n",
       " 'and',\n",
       " 'psychotherapy',\n",
       " 'created',\n",
       " 'by',\n",
       " 'Richard',\n",
       " 'Bandler',\n",
       " 'and',\n",
       " 'John',\n",
       " 'Grinder',\n",
       " 'in',\n",
       " 'California',\n",
       " ',',\n",
       " 'United',\n",
       " 'States',\n",
       " 'in',\n",
       " 'the',\n",
       " '1970s',\n",
       " '.']"
      ]
     },
     "execution_count": 21,
     "metadata": {},
     "output_type": "execute_result"
    }
   ],
   "source": [
    "data_clean_word_sent_tokenized = [word_tokenize(sentence) for sentence in data_clean_sent_tokenized]\n",
    "data_clean_word_sent_tokenized[0]"
   ]
  },
  {
   "cell_type": "markdown",
   "metadata": {},
   "source": [
    "### remove punctuations with lowercasing"
   ]
  },
  {
   "cell_type": "code",
   "execution_count": 22,
   "metadata": {},
   "outputs": [
    {
     "data": {
      "text/plain": [
       "['programming',\n",
       " 'nlp',\n",
       " 'is',\n",
       " 'a',\n",
       " 'pseudoscientific',\n",
       " 'approach',\n",
       " 'to',\n",
       " 'communication',\n",
       " 'personal',\n",
       " 'development']"
      ]
     },
     "execution_count": 22,
     "metadata": {},
     "output_type": "execute_result"
    }
   ],
   "source": [
    "data_clean_word_tokenized = [word.lower() for word in data_clean_word_tokenized if word.isalpha()]\n",
    "data_clean_word_tokenized[:10]"
   ]
  },
  {
   "cell_type": "markdown",
   "metadata": {},
   "source": [
    "### Removing stopwords"
   ]
  },
  {
   "cell_type": "code",
   "execution_count": 23,
   "metadata": {},
   "outputs": [
    {
     "data": {
      "text/plain": [
       "['programming',\n",
       " 'nlp',\n",
       " 'pseudoscientific',\n",
       " 'approach',\n",
       " 'communication',\n",
       " 'personal',\n",
       " 'development',\n",
       " 'psychotherapy',\n",
       " 'created',\n",
       " 'richard']"
      ]
     },
     "execution_count": 23,
     "metadata": {},
     "output_type": "execute_result"
    }
   ],
   "source": [
    "from nltk.corpus import stopwords\n",
    "\n",
    "data_clean_word_tokenized = [word for word in data_clean_word_tokenized if not word in stopwords.words('english')]\n",
    "data_clean_word_tokenized[:10]"
   ]
  },
  {
   "cell_type": "markdown",
   "metadata": {},
   "source": [
    "### Lemmatization / POS tagging"
   ]
  },
  {
   "cell_type": "code",
   "execution_count": 24,
   "metadata": {},
   "outputs": [
    {
     "data": {
      "text/plain": [
       "['program',\n",
       " 'nlp',\n",
       " 'pseudoscientific',\n",
       " 'approach',\n",
       " 'communication',\n",
       " 'personal',\n",
       " 'development',\n",
       " 'psychotherapy',\n",
       " 'create',\n",
       " 'richard']"
      ]
     },
     "execution_count": 24,
     "metadata": {},
     "output_type": "execute_result"
    }
   ],
   "source": [
    "from nltk.stem import WordNetLemmatizer\n",
    "from nltk.corpus import wordnet\n",
    "from nltk import word_tokenize, pos_tag\n",
    "\n",
    "def get_wordnet_pos(treebank_tag):\n",
    "    if treebank_tag.startswith('J'):\n",
    "        return wordnet.ADJ\n",
    "    elif treebank_tag.startswith('V'):\n",
    "        return wordnet.VERB\n",
    "    elif treebank_tag.startswith('N'):\n",
    "        return wordnet.NOUN\n",
    "    elif treebank_tag.startswith('R'):\n",
    "        return wordnet.ADV\n",
    "    return ''\n",
    "    \n",
    "lemmatizer = WordNetLemmatizer()\n",
    "\n",
    "data_clean_word_lemmatized = []\n",
    "\n",
    "for i, word in enumerate(data_clean_word_tokenized):\n",
    "    pos = get_wordnet_pos(pos_tag([word])[0][1])\n",
    "    if pos is not '':\n",
    "        data_clean_word_lemmatized.append(lemmatizer.lemmatize(word, pos))\n",
    "    else:\n",
    "        data_clean_word_lemmatized.append(word)\n",
    "\n",
    "data_clean_word_lemmatized[:10]"
   ]
  },
  {
   "cell_type": "markdown",
   "metadata": {},
   "source": [
    "## Now we have a dataset of words ready for training"
   ]
  },
  {
   "cell_type": "code",
   "execution_count": null,
   "metadata": {},
   "outputs": [],
   "source": []
  },
  {
   "cell_type": "code",
   "execution_count": null,
   "metadata": {},
   "outputs": [],
   "source": []
  },
  {
   "cell_type": "code",
   "execution_count": null,
   "metadata": {},
   "outputs": [],
   "source": []
  }
 ],
 "metadata": {
  "kernelspec": {
   "display_name": "Python 3",
   "language": "python",
   "name": "python3"
  },
  "language_info": {
   "codemirror_mode": {
    "name": "ipython",
    "version": 3
   },
   "file_extension": ".py",
   "mimetype": "text/x-python",
   "name": "python",
   "nbconvert_exporter": "python",
   "pygments_lexer": "ipython3",
   "version": "3.7.6"
  }
 },
 "nbformat": 4,
 "nbformat_minor": 4
}
