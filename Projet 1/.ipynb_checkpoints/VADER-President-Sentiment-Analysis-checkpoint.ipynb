{
 "cells": [
  {
   "cell_type": "markdown",
   "metadata": {},
   "source": [
    "# VADER President Sentiment Analysis #\n",
    "This notebook will serve to analyse the sentiment of American presidents' speeches.\n",
    "We will order the speeches by time and by president and use the VADER model to compute the sentiment of each sentence, to then average this for every speech.\n",
    "\n",
    "The end result will be graphs of every president's sentiment over time."
   ]
  },
  {
   "cell_type": "code",
   "execution_count": 1,
   "metadata": {},
   "outputs": [],
   "source": [
    "from vaderSentiment.vaderSentiment import SentimentIntensityAnalyzer\n",
    "analyser = SentimentIntensityAnalyzer()"
   ]
  },
  {
   "cell_type": "code",
   "execution_count": 2,
   "metadata": {},
   "outputs": [
    {
     "name": "stdout",
     "output_type": "stream",
     "text": [
      "Sentence:\n",
      "\tThis is the greatest and best song in the world\n",
      "Score:\n",
      "\t{'neg': 0.0, 'neu': 0.488, 'pos': 0.512, 'compound': 0.8555}\n",
      "Is positive? True\n",
      "Is negative? False\n"
     ]
    }
   ],
   "source": [
    "# Just experimenting with VADER, not related to the President Speeches\n",
    "\n",
    "def score(sentence):\n",
    "    print(f'Sentence:\\n\\t{sentence}\\nScore:\\n\\t{analyser.polarity_scores(sentence)}')\n",
    "def is_pos(sentence):\n",
    "    return analyser.polarity_scores(sentence)['compound'] > 0.05\n",
    "def is_neg(sentence):\n",
    "    return analyser.polarity_scores(sentence)['compound'] < -0.05\n",
    "\n",
    "good_sentence = 'This is the greatest and best song in the world'\n",
    "score(good_sentence)\n",
    "print(f'Is positive? {is_pos(good_sentence)}')\n",
    "print(f'Is negative? {is_neg(good_sentence)}')\n"
   ]
  },
  {
   "cell_type": "markdown",
   "metadata": {},
   "source": [
    "## Loading in the data ##\n",
    "We traverse the directory tree in search of speech files and add them to a dictionary with metadata.\n",
    "So far, we do not open any files. This keeps the memory footprint small."
   ]
  },
  {
   "cell_type": "code",
   "execution_count": 3,
   "metadata": {},
   "outputs": [
    {
     "name": "stdout",
     "output_type": "stream",
     "text": [
      "There are 11 presidents in the file system:\n",
      "dict_keys(['George Washington', 'George W. Bush', 'George H. W. Bush', 'Barack Obama', 'Andrew Jackson', 'Franklin D. Roosevelt', 'Donald Trump', 'Bill Clinton', 'Thomas Jefferson', 'Ronald Reagan', 'Richard M. Nixon'])\n"
     ]
    }
   ],
   "source": [
    "from os import walk\n",
    "import time\n",
    "president_dict = {}\n",
    "path = 'presidents-speeches/'\n",
    "current_president = None\n",
    "for (root, dirs, files) in walk(path):\n",
    "    # go through child folders, skip the first parent folder\n",
    "    if len(dirs) == 0:\n",
    "        president_name = root.split(\"/\")[1]\n",
    "        if president_name not in president_dict:\n",
    "            president_dict[president_name] = []\n",
    "        for file in files:\n",
    "            file_pieces = file.split('__')\n",
    "            date = time.strptime(file_pieces[0], '%B %d, %Y')\n",
    "            entry = {\n",
    "                'date': date,\n",
    "                'title': file_pieces[1],\n",
    "                'path': root+'/'+file\n",
    "            }\n",
    "            president_dict[president_name].append(entry)\n",
    "\n",
    "# For every president, sort their speeches by date\n",
    "for pres, speeches in president_dict.items():\n",
    "    speeches.sort(key=lambda e: e['date'])\n",
    "print(f'There are {len(president_dict)} presidents in the file system:\\n{president_dict.keys()}')"
   ]
  },
  {
   "cell_type": "markdown",
   "metadata": {},
   "source": [
    "We scrape the list of presidents and create a new, reordered, list of presidents with speech file entries."
   ]
  },
  {
   "cell_type": "code",
   "execution_count": 4,
   "metadata": {},
   "outputs": [
    {
     "name": "stdout",
     "output_type": "stream",
     "text": [
      "There are 11 presidents, in order:\n",
      "odict_keys(['George Washington', 'Thomas Jefferson', 'Andrew Jackson', 'Franklin D. Roosevelt', 'Richard M. Nixon', 'Ronald Reagan', 'George H. W. Bush', 'Bill Clinton', 'George W. Bush', 'Barack Obama', 'Donald Trump'])\n"
     ]
    }
   ],
   "source": [
    "import requests\n",
    "from collections import OrderedDict\n",
    "from bs4 import BeautifulSoup\n",
    "try:\n",
    "    resp = requests.get('https://www.loc.gov/rr/print/list/057_chron.html')\n",
    "except requests.exceptions.RequestException as e:\n",
    "    print(e)\n",
    "soup = BeautifulSoup(resp._content)\n",
    "ordered_president_dict = OrderedDict()\n",
    "html_president_table = soup.find_all('table')[3]\n",
    "for row in html_president_table.find_all('tr')[1:]:  # skipping header row\n",
    "    cols = row.find_all('td')\n",
    "    president = cols[1].text\n",
    "    # Manually handling edge cases\n",
    "    if president == 'Donald J. Trump':\n",
    "        president = 'Donald Trump'\n",
    "    elif president == 'George Bush':\n",
    "        president = 'George H. W. Bush'\n",
    "    if president in president_dict:\n",
    "        ordered_president_dict[president] = president_dict[president]\n",
    "print(f'There are {len(ordered_president_dict)} presidents, in order:\\n{ordered_president_dict.keys()}')"
   ]
  },
  {
   "cell_type": "markdown",
   "metadata": {},
   "source": [
    "### Verifying the ordering ###\n",
    "To verify the ordering, we should see that the **last speech** of the **first president** is George Washington's Farewell Address (of Hamilton fame):"
   ]
  },
  {
   "cell_type": "code",
   "execution_count": 5,
   "metadata": {},
   "outputs": [
    {
     "data": {
      "text/plain": [
       "{'date': time.struct_time(tm_year=2001, tm_mon=1, tm_mday=20, tm_hour=0, tm_min=0, tm_sec=0, tm_wday=5, tm_yday=20, tm_isdst=-1),\n",
       " 'title': 'FirstInauguralAddress.txt',\n",
       " 'path': 'presidents-speeches/George Washington/speeches/January 20, 2001__FirstInauguralAddress.txt'}"
      ]
     },
     "execution_count": 5,
     "metadata": {},
     "output_type": "execute_result"
    }
   ],
   "source": [
    "list(ordered_president_dict.items())[0][1][-1]"
   ]
  },
  {
   "cell_type": "markdown",
   "metadata": {},
   "source": [
    "Searching the file system, we find that this is not a fault in this notebook, but the scraping notebook has several invalid links for George Washingon. It seems, however, that this is the only faulty link. We can simply remove it in this processing."
   ]
  },
  {
   "cell_type": "code",
   "execution_count": 6,
   "metadata": {},
   "outputs": [
    {
     "name": "stdout",
     "output_type": "stream",
     "text": [
      "\n"
     ]
    }
   ],
   "source": [
    "list(ordered_president_dict.items())[0][1].pop() ; print()"
   ]
  },
  {
   "cell_type": "markdown",
   "metadata": {},
   "source": [
    "And now the same command:"
   ]
  },
  {
   "cell_type": "code",
   "execution_count": 7,
   "metadata": {},
   "outputs": [
    {
     "data": {
      "text/plain": [
       "{'date': time.struct_time(tm_year=1796, tm_mon=12, tm_mday=7, tm_hour=0, tm_min=0, tm_sec=0, tm_wday=2, tm_yday=342, tm_isdst=-1),\n",
       " 'title': 'EighthAnnualMessagetoCongress.txt',\n",
       " 'path': 'presidents-speeches/George Washington/speeches/December 7, 1796__EighthAnnualMessagetoCongress.txt'}"
      ]
     },
     "execution_count": 7,
     "metadata": {},
     "output_type": "execute_result"
    }
   ],
   "source": [
    "list(ordered_president_dict.items())[0][1][-1]"
   ]
  },
  {
   "cell_type": "markdown",
   "metadata": {},
   "source": [
    "Still not the farewell address! Manually scanning the sources yield that my thought was incorrect; Washington had another speech after he announced his retirement. Thus, we find the aftersought address next-to-last:"
   ]
  },
  {
   "cell_type": "code",
   "execution_count": 8,
   "metadata": {},
   "outputs": [
    {
     "data": {
      "text/plain": [
       "{'date': time.struct_time(tm_year=1796, tm_mon=9, tm_mday=19, tm_hour=0, tm_min=0, tm_sec=0, tm_wday=0, tm_yday=263, tm_isdst=-1),\n",
       " 'title': 'FarewellAddress.txt',\n",
       " 'path': 'presidents-speeches/George Washington/speeches/September 19, 1796__FarewellAddress.txt'}"
      ]
     },
     "execution_count": 8,
     "metadata": {},
     "output_type": "execute_result"
    }
   ],
   "source": [
    "list(ordered_president_dict.items())[0][1][-2]  # [-2] for next-to-last"
   ]
  },
  {
   "cell_type": "markdown",
   "metadata": {},
   "source": [
    "Anyway, this shows that the ordering is working.\n",
    "\n",
    "## Sentiment-classing speeches ##\n",
    "\n",
    "For each speech, we load in the file, perform sentence tokenization and compute the overall sentiment of the speech by computing sentiment for each sentence and determining if it has more positive or negative sentences.\n",
    "\n",
    "We assign each speech a new attribute: \"sentiment\" as a string that is allowed to be empty, indicating a neutral speech."
   ]
  },
  {
   "cell_type": "code",
   "execution_count": 9,
   "metadata": {},
   "outputs": [
    {
     "name": "stdout",
     "output_type": "stream",
     "text": [
      "George Washington: 19 positive, 0 negative (21 total)\n",
      "Thomas Jefferson: 23 positive, 1 negative (24 total)\n",
      "Andrew Jackson: 26 positive, 0 negative (26 total)\n",
      "Franklin D. Roosevelt: 38 positive, 9 negative (49 total)\n",
      "Richard M. Nixon: 21 positive, 2 negative (23 total)\n",
      "Ronald Reagan: 56 positive, 3 negative (59 total)\n",
      "George H. W. Bush: 23 positive, 0 negative (23 total)\n",
      "Bill Clinton: 38 positive, 1 negative (39 total)\n",
      "George W. Bush: 35 positive, 4 negative (39 total)\n",
      "Barack Obama: 47 positive, 2 negative (50 total)\n",
      "Donald Trump: 19 positive, 2 negative (22 total)\n"
     ]
    }
   ],
   "source": [
    "from nltk.tokenize import sent_tokenize\n",
    "analyser = SentimentIntensityAnalyzer()\n",
    "\n",
    "def process_speech_file(file):\n",
    "    \"\"\"\n",
    "    Reads the text file and computes sentiment,\n",
    "    returns string \"positive\"/\"negative\"/\"\" (neutral)\n",
    "    \"\"\"\n",
    "    pos_count = 0\n",
    "    neg_count = 0\n",
    "    with open(file) as f:\n",
    "        sentences = sent_tokenize(f.read())\n",
    "        for sentence in sentences:\n",
    "            if is_pos(sentence):\n",
    "                pos_count += 1\n",
    "            elif is_neg(sentence):\n",
    "                neg_count += 1\n",
    "    if pos_count == neg_count:\n",
    "        return ''\n",
    "    return 'positive' if pos_count > neg_count else 'negative'\n",
    "\n",
    "president_count_dict = {}\n",
    "\n",
    "for president, speeches in ordered_president_dict.items():\n",
    "    positives = 0\n",
    "    negatives = 0\n",
    "    president_count_dict[president] = {'pos': [], 'neg': []}\n",
    "    for speech in speeches:\n",
    "        sentiment = process_speech_file(speech['path'])\n",
    "        speech['sentiment'] = sentiment\n",
    "        if sentiment == 'positive':\n",
    "            president_count_dict[president]['pos'].append(\n",
    "                time.strftime('%Y-%m-%d', speech['date'])\n",
    "            )\n",
    "            positives += 1\n",
    "        elif sentiment == 'negative':\n",
    "            president_count_dict[president]['neg'].append(\n",
    "                time.strftime('%Y-%m-%d', speech['date'])\n",
    "            )\n",
    "            negatives += 1\n",
    "    \n",
    "    print(f'{president}: {positives} positive, {negatives} negative ({len(speeches)} total)')\n",
    "        "
   ]
  },
  {
   "cell_type": "code",
   "execution_count": null,
   "metadata": {
    "scrolled": false
   },
   "outputs": [],
   "source": [
    "%matplotlib notebook\n",
    "import plotly.graph_objects as go\n",
    "from plotly.subplots import make_subplots\n",
    "from math import ceil\n",
    "\n",
    "for president, data in president_count_dict.items():\n",
    "    \n",
    "    fig = go.Figure()\n",
    "\n",
    "    fig.add_trace(go.Histogram(\n",
    "            x=data['pos'],\n",
    "            name='Positive'))\n",
    "\n",
    "    fig.add_trace(go.Histogram(\n",
    "        x=data['neg'],\n",
    "        name='Negative'\n",
    "        ))\n",
    "\n",
    "    # The two histograms are drawn on top of another\n",
    "    fig.update_layout(barmode='stack')\n",
    "    fig.update_layout(\n",
    "        barmode='stack',\n",
    "        title=f'Sentiment over time for {president}',\n",
    "        xaxis_title='Years of service',\n",
    "        yaxis_title='Speech count',\n",
    "        font=dict(\n",
    "            family=\"Helvetica\",\n",
    "            size=18,\n",
    "            color=\"#7f7f7f\"\n",
    "        )\n",
    "    )\n",
    "    fig.show()"
   ]
  }
 ],
 "metadata": {
  "kernelspec": {
   "display_name": "Python 3",
   "language": "python",
   "name": "python3"
  },
  "language_info": {
   "codemirror_mode": {
    "name": "ipython",
    "version": 3
   },
   "file_extension": ".py",
   "mimetype": "text/x-python",
   "name": "python",
   "nbconvert_exporter": "python",
   "pygments_lexer": "ipython3",
   "version": "3.7.6"
  }
 },
 "nbformat": 4,
 "nbformat_minor": 2
}
